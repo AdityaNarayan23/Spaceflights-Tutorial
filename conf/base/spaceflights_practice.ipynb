{
 "cells": [
  {
   "cell_type": "code",
   "execution_count": 1,
   "id": "f4cdf7c9-8d72-4a14-80cc-0115615efd2f",
   "metadata": {},
   "outputs": [
    {
     "name": "stdout",
     "output_type": "stream",
     "text": [
      "2021-10-07 19:04:46,630 - kedro.framework.session.store - INFO - `read()` not implemented for `BaseSessionStore`. Assuming empty store.\n",
      "2021-10-07 19:04:46,679 - root - INFO - ** Kedro project spaceflightsTutorial\n",
      "2021-10-07 19:04:46,681 - root - INFO - Defined global variable `context`, `session` and `catalog`\n",
      "2021-10-07 19:04:46,690 - root - INFO - Registered line magic `run_viz`\n"
     ]
    }
   ],
   "source": [
    "%reload_kedro"
   ]
  },
  {
   "cell_type": "code",
   "execution_count": 2,
   "id": "643ef5d6-83b4-4749-af44-ab5a0cf61d17",
   "metadata": {},
   "outputs": [
    {
     "data": {
      "text/plain": [
       "<kedro.io.data_catalog.DataCatalog at 0x12a6a26a0>"
      ]
     },
     "execution_count": 2,
     "metadata": {},
     "output_type": "execute_result"
    }
   ],
   "source": [
    "context.catalog"
   ]
  },
  {
   "cell_type": "code",
   "execution_count": 3,
   "id": "a7521b0a-58de-4065-947f-7d6a9889f5f0",
   "metadata": {},
   "outputs": [
    {
     "name": "stderr",
     "output_type": "stream",
     "text": [
      "/Users/adityan/Work/kedro-spaceflights-tutorial/spaceflights-venv/lib/python3.8/site-packages/kedro/framework/context/context.py:59: DeprecationWarning: Accessing pipeline via the context will be deprecated in Kedro 0.18.0.\n",
      "  warn(\n"
     ]
    },
    {
     "data": {
      "text/plain": [
       "Pipeline([\n",
       "Node(preprocess_shuttles, 'shuttles', 'preprocessed_shuttles', 'preprocess_shuttles_node'),\n",
       "Node(preprocess_companies, 'companies', 'preprocessed_companies', 'preprocess_companies_node'),\n",
       "Node(create_model_input_table, ['preprocessed_shuttles', 'preprocessed_companies', 'reviews'], 'model_input_table', 'create_model_input_table_node'),\n",
       "Node(split_data, ['model_input_table', 'parameters'], ['X_train', 'X_test', 'y_train', 'y_test'], 'split_data_node'),\n",
       "Node(train_model, ['X_train', 'y_train'], 'regressor', 'train_model_node'),\n",
       "Node(train_model_RF, ['X_train', 'y_train'], 'RF_regressor', 'train_model_RF_node'),\n",
       "Node(evaluate_model_RF, ['RF_regressor', 'X_test', 'y_test'], None, 'evaluate_model_RF_node'),\n",
       "Node(evaluate_model, ['regressor', 'X_test', 'y_test'], None, 'evaluate_model_node')\n",
       "])"
      ]
     },
     "execution_count": 3,
     "metadata": {},
     "output_type": "execute_result"
    }
   ],
   "source": [
    "context.pipeline"
   ]
  },
  {
   "cell_type": "code",
   "execution_count": 101,
   "id": "67bc2089-1005-4c16-9258-e7bc3aeaa114",
   "metadata": {},
   "outputs": [
    {
     "data": {
      "text/plain": [
       "PosixPath('/Users/adityan/Work/kedro-spaceflights-tutorial/spaceflightsRepo')"
      ]
     },
     "execution_count": 101,
     "metadata": {},
     "output_type": "execute_result"
    }
   ],
   "source": [
    "context.project_path"
   ]
  },
  {
   "cell_type": "code",
   "execution_count": 160,
   "id": "1655bf7d-75c7-44fb-8df0-018aa51f7c7c",
   "metadata": {},
   "outputs": [
    {
     "data": {
      "text/plain": [
       "{'test_size': 0.2,\n",
       " 'random_state': 3,\n",
       " 'features': ['engines',\n",
       "  'passenger_capacity',\n",
       "  'crew',\n",
       "  'd_check_complete',\n",
       "  'moon_clearance_complete',\n",
       "  'iata_approved',\n",
       "  'company_rating',\n",
       "  'review_scores_rating']}"
      ]
     },
     "execution_count": 160,
     "metadata": {},
     "output_type": "execute_result"
    }
   ],
   "source": [
    "context.params"
   ]
  },
  {
   "cell_type": "code",
   "execution_count": 102,
   "id": "345166ea-4aa8-4114-8038-b3c50bb55865",
   "metadata": {},
   "outputs": [
    {
     "name": "stdout",
     "output_type": "stream",
     "text": [
      "2021-10-07 14:46:45,659 - kedro.io.data_catalog - INFO - Loading data from `companies` (CSVDataSet)...\n",
      "2021-10-07 14:46:45,710 - kedro.io.data_catalog - INFO - Loading data from `reviews` (CSVDataSet)...\n",
      "2021-10-07 14:46:45,780 - kedro.io.data_catalog - INFO - Loading data from `shuttles` (ExcelDataSet)...\n"
     ]
    },
    {
     "name": "stderr",
     "output_type": "stream",
     "text": [
      "/Users/adityan/Work/kedro-spaceflights-tutorial/spaceflights-venv/lib/python3.8/site-packages/kedro/extras/datasets/pandas/excel_dataset.py:168: FutureWarning: Your version of xlrd is 1.2.0. In xlrd >= 2.0, only the xls format is supported. Install openpyxl instead.\n",
      "  return pd.read_excel(fs_file, **self._load_args)\n",
      "/Users/adityan/Work/kedro-spaceflights-tutorial/spaceflights-venv/lib/python3.8/site-packages/xlrd/xlsx.py:266: DeprecationWarning: This method will be removed in future versions.  Use 'tree.iter()' or 'list(tree.iter())' instead.\n",
      "  for elem in self.tree.iter() if Element_has_iter else self.tree.getiterator():\n",
      "/Users/adityan/Work/kedro-spaceflights-tutorial/spaceflights-venv/lib/python3.8/site-packages/xlrd/xlsx.py:312: DeprecationWarning: This method will be removed in future versions.  Use 'tree.iter()' or 'list(tree.iter())' instead.\n",
      "  for elem in self.tree.iter() if Element_has_iter else self.tree.getiterator():\n"
     ]
    }
   ],
   "source": [
    "companies_df = catalog.load(\"companies\")\n",
    "reviews_df = catalog.load(\"reviews\")\n",
    "shuttles_df = catalog.load(\"shuttles\")"
   ]
  },
  {
   "cell_type": "code",
   "execution_count": 150,
   "id": "b38c26e3-abaf-498b-987e-ebd4287be9ec",
   "metadata": {},
   "outputs": [
    {
     "name": "stdout",
     "output_type": "stream",
     "text": [
      "<class 'pandas.core.frame.DataFrame'>\n",
      "RangeIndex: 77096 entries, 0 to 77095\n",
      "Data columns (total 5 columns):\n",
      " #   Column             Non-Null Count  Dtype  \n",
      "---  ------             --------------  -----  \n",
      " 0   id                 77096 non-null  int64  \n",
      " 1   company_rating     47187 non-null  object \n",
      " 2   company_location   57966 non-null  object \n",
      " 3   total_fleet_count  77089 non-null  float64\n",
      " 4   iata_approved      77089 non-null  object \n",
      "dtypes: float64(1), int64(1), object(3)\n",
      "memory usage: 2.9+ MB\n"
     ]
    }
   ],
   "source": [
    "companies_df.info()"
   ]
  },
  {
   "cell_type": "code",
   "execution_count": 151,
   "id": "4cca5631-1df4-4e6e-bd0d-91394f7d3baa",
   "metadata": {},
   "outputs": [
    {
     "data": {
      "text/plain": [
       "id                       0\n",
       "company_rating       29909\n",
       "company_location     19130\n",
       "total_fleet_count        7\n",
       "iata_approved            7\n",
       "dtype: int64"
      ]
     },
     "execution_count": 151,
     "metadata": {},
     "output_type": "execute_result"
    }
   ],
   "source": [
    "companies_df.isnull().sum()"
   ]
  },
  {
   "cell_type": "code",
   "execution_count": 105,
   "id": "2a096a03-db16-48fa-a6c8-f0a6caf0e5d4",
   "metadata": {},
   "outputs": [
    {
     "name": "stdout",
     "output_type": "stream",
     "text": [
      "<class 'pandas.core.frame.DataFrame'>\n",
      "RangeIndex: 77096 entries, 0 to 77095\n",
      "Data columns (total 10 columns):\n",
      " #   Column                   Non-Null Count  Dtype  \n",
      "---  ------                   --------------  -----  \n",
      " 0   shuttle_id               77096 non-null  int64  \n",
      " 1   review_scores_rating     55956 non-null  float64\n",
      " 2   review_scores_comfort    55896 non-null  float64\n",
      " 3   review_scores_amenities  55909 non-null  float64\n",
      " 4   review_scores_trip       55833 non-null  float64\n",
      " 5   review_scores_crew       55902 non-null  float64\n",
      " 6   review_scores_location   55831 non-null  float64\n",
      " 7   review_scores_price      55828 non-null  float64\n",
      " 8   number_of_reviews        77096 non-null  int64  \n",
      " 9   reviews_per_month        57553 non-null  float64\n",
      "dtypes: float64(8), int64(2)\n",
      "memory usage: 5.9 MB\n"
     ]
    }
   ],
   "source": [
    "reviews_df.info()"
   ]
  },
  {
   "cell_type": "code",
   "execution_count": 106,
   "id": "212ca5a9-6d18-484a-acb9-97b8290a03e6",
   "metadata": {},
   "outputs": [
    {
     "data": {
      "text/plain": [
       "shuttle_id                     0\n",
       "review_scores_rating       21140\n",
       "review_scores_comfort      21200\n",
       "review_scores_amenities    21187\n",
       "review_scores_trip         21263\n",
       "review_scores_crew         21194\n",
       "review_scores_location     21265\n",
       "review_scores_price        21268\n",
       "number_of_reviews              0\n",
       "reviews_per_month          19543\n",
       "dtype: int64"
      ]
     },
     "execution_count": 106,
     "metadata": {},
     "output_type": "execute_result"
    }
   ],
   "source": [
    "reviews_df.isnull().sum()"
   ]
  },
  {
   "cell_type": "code",
   "execution_count": 107,
   "id": "74478a03-245f-44a4-baec-db782e72db24",
   "metadata": {},
   "outputs": [
    {
     "name": "stdout",
     "output_type": "stream",
     "text": [
      "<class 'pandas.core.frame.DataFrame'>\n",
      "RangeIndex: 77096 entries, 0 to 77095\n",
      "Data columns (total 13 columns):\n",
      " #   Column                   Non-Null Count  Dtype  \n",
      "---  ------                   --------------  -----  \n",
      " 0   id                       77096 non-null  int64  \n",
      " 1   shuttle_location         77096 non-null  object \n",
      " 2   shuttle_type             77096 non-null  object \n",
      " 3   engine_type              77096 non-null  object \n",
      " 4   engine_vendor            77096 non-null  object \n",
      " 5   engines                  77057 non-null  float64\n",
      " 6   passenger_capacity       77096 non-null  int64  \n",
      " 7   cancellation_policy      77096 non-null  object \n",
      " 8   crew                     76947 non-null  float64\n",
      " 9   d_check_complete         77096 non-null  object \n",
      " 10  moon_clearance_complete  77096 non-null  object \n",
      " 11  price                    77096 non-null  object \n",
      " 12  company_id               77096 non-null  int64  \n",
      "dtypes: float64(2), int64(3), object(8)\n",
      "memory usage: 7.6+ MB\n"
     ]
    }
   ],
   "source": [
    "shuttles_df.info()"
   ]
  },
  {
   "cell_type": "code",
   "execution_count": 108,
   "id": "955fe33d-8da8-44e9-a990-c223dfbba6e3",
   "metadata": {},
   "outputs": [
    {
     "data": {
      "text/plain": [
       "id                           0\n",
       "shuttle_location             0\n",
       "shuttle_type                 0\n",
       "engine_type                  0\n",
       "engine_vendor                0\n",
       "engines                     39\n",
       "passenger_capacity           0\n",
       "cancellation_policy          0\n",
       "crew                       149\n",
       "d_check_complete             0\n",
       "moon_clearance_complete      0\n",
       "price                        0\n",
       "company_id                   0\n",
       "dtype: int64"
      ]
     },
     "execution_count": 108,
     "metadata": {},
     "output_type": "execute_result"
    }
   ],
   "source": [
    "shuttles_df.isnull().sum()"
   ]
  },
  {
   "cell_type": "code",
   "execution_count": 109,
   "id": "78232dfa-8149-4c29-94ac-83737e7783ae",
   "metadata": {},
   "outputs": [
    {
     "data": {
      "text/html": [
       "<div>\n",
       "<style scoped>\n",
       "    .dataframe tbody tr th:only-of-type {\n",
       "        vertical-align: middle;\n",
       "    }\n",
       "\n",
       "    .dataframe tbody tr th {\n",
       "        vertical-align: top;\n",
       "    }\n",
       "\n",
       "    .dataframe thead th {\n",
       "        text-align: right;\n",
       "    }\n",
       "</style>\n",
       "<table border=\"1\" class=\"dataframe\">\n",
       "  <thead>\n",
       "    <tr style=\"text-align: right;\">\n",
       "      <th></th>\n",
       "      <th>id</th>\n",
       "      <th>company_rating</th>\n",
       "      <th>company_location</th>\n",
       "      <th>total_fleet_count</th>\n",
       "      <th>iata_approved</th>\n",
       "    </tr>\n",
       "  </thead>\n",
       "  <tbody>\n",
       "    <tr>\n",
       "      <th>0</th>\n",
       "      <td>35029</td>\n",
       "      <td>100%</td>\n",
       "      <td>Niue</td>\n",
       "      <td>4.0</td>\n",
       "      <td>f</td>\n",
       "    </tr>\n",
       "    <tr>\n",
       "      <th>1</th>\n",
       "      <td>30292</td>\n",
       "      <td>67%</td>\n",
       "      <td>Anguilla</td>\n",
       "      <td>6.0</td>\n",
       "      <td>f</td>\n",
       "    </tr>\n",
       "    <tr>\n",
       "      <th>2</th>\n",
       "      <td>19032</td>\n",
       "      <td>67%</td>\n",
       "      <td>Russian Federation</td>\n",
       "      <td>4.0</td>\n",
       "      <td>f</td>\n",
       "    </tr>\n",
       "    <tr>\n",
       "      <th>3</th>\n",
       "      <td>8238</td>\n",
       "      <td>91%</td>\n",
       "      <td>Barbados</td>\n",
       "      <td>15.0</td>\n",
       "      <td>t</td>\n",
       "    </tr>\n",
       "    <tr>\n",
       "      <th>4</th>\n",
       "      <td>30342</td>\n",
       "      <td>NaN</td>\n",
       "      <td>Sao Tome and Principe</td>\n",
       "      <td>2.0</td>\n",
       "      <td>t</td>\n",
       "    </tr>\n",
       "  </tbody>\n",
       "</table>\n",
       "</div>"
      ],
      "text/plain": [
       "      id company_rating       company_location  total_fleet_count  \\\n",
       "0  35029           100%                   Niue                4.0   \n",
       "1  30292            67%               Anguilla                6.0   \n",
       "2  19032            67%     Russian Federation                4.0   \n",
       "3   8238            91%               Barbados               15.0   \n",
       "4  30342            NaN  Sao Tome and Principe                2.0   \n",
       "\n",
       "  iata_approved  \n",
       "0             f  \n",
       "1             f  \n",
       "2             f  \n",
       "3             t  \n",
       "4             t  "
      ]
     },
     "execution_count": 109,
     "metadata": {},
     "output_type": "execute_result"
    }
   ],
   "source": [
    "companies_df.head()"
   ]
  },
  {
   "cell_type": "code",
   "execution_count": 110,
   "id": "7ac03dbd-d8b2-43d5-8e16-168d4fa894ba",
   "metadata": {},
   "outputs": [],
   "source": [
    "import pandas as pd"
   ]
  },
  {
   "cell_type": "code",
   "execution_count": 111,
   "id": "b3caa348-a00d-4e09-8328-4cfeeb4c1ad7",
   "metadata": {},
   "outputs": [],
   "source": [
    "def _is_true(x):\n",
    "    return x == \"t\"\n",
    "\n",
    "\n",
    "def _parse_percentage(x):\n",
    "    x = x.str.replace(\"%\", \"\")\n",
    "    x = x.astype(float) / 100\n",
    "    return x\n",
    "\n",
    "\n",
    "def _parse_money(x):\n",
    "    x = x.str.replace(\"$\", \"\").str.replace(\",\", \"\")\n",
    "    x = x.astype(float)\n",
    "    return x\n",
    "\n",
    "\n",
    "def preprocess_companies(companies: pd.DataFrame) -> pd.DataFrame:\n",
    "    \"\"\"Preprocesses the data for companies.\n",
    "\n",
    "    Args:\n",
    "        companies: Raw data.\n",
    "    Returns:\n",
    "        Preprocessed data, with `company_rating` converted to a float and\n",
    "        `iata_approved` converted to boolean.\n",
    "    \"\"\"\n",
    "    companies[\"iata_approved\"] = _is_true(companies[\"iata_approved\"])\n",
    "    companies[\"company_rating\"] = _parse_percentage(companies[\"company_rating\"])\n",
    "    return companies\n",
    "\n",
    "\n",
    "def preprocess_shuttles(shuttles: pd.DataFrame) -> pd.DataFrame:\n",
    "    \"\"\"Preprocesses the data for shuttles.\n",
    "\n",
    "    Args:\n",
    "        shuttles: Raw data.\n",
    "    Returns:\n",
    "        Preprocessed data, with `price` converted to a float and `d_check_complete`,\n",
    "        `moon_clearance_complete` converted to boolean.\n",
    "    \"\"\"\n",
    "    shuttles[\"d_check_complete\"] = _is_true(shuttles[\"d_check_complete\"])\n",
    "    shuttles[\"moon_clearance_complete\"] = _is_true(shuttles[\"moon_clearance_complete\"])\n",
    "    shuttles[\"price\"] = _parse_money(shuttles[\"price\"])\n",
    "    return shuttles\n",
    "\n",
    "\n",
    "def create_model_input_table(\n",
    "    shuttles: pd.DataFrame, companies: pd.DataFrame, reviews: pd.DataFrame\n",
    ") -> pd.DataFrame:\n",
    "    \"\"\"Combines all data to create a model input table.\n",
    "\n",
    "    Args:\n",
    "        shuttles: Preprocessed data for shuttles.\n",
    "        companies: Preprocessed data for companies.\n",
    "        reviews: Raw data for reviews.\n",
    "    Returns:\n",
    "        Model input table.\n",
    "\n",
    "    \"\"\"\n",
    "    rated_shuttles = shuttles.merge(reviews, left_on=\"id\", right_on=\"shuttle_id\")\n",
    "    model_input_table = rated_shuttles.merge(\n",
    "        companies, left_on=\"company_id\", right_on=\"id\"\n",
    "    )\n",
    "    model_input_table = model_input_table.dropna()\n",
    "    return model_input_table\n"
   ]
  },
  {
   "cell_type": "code",
   "execution_count": 112,
   "id": "35e38e6c-250c-4331-800d-9218aa41163f",
   "metadata": {},
   "outputs": [],
   "source": [
    "preprocess_companies_df = preprocess_companies(companies_df)"
   ]
  },
  {
   "cell_type": "code",
   "execution_count": 113,
   "id": "e0fe3247-4359-434b-b0e5-5ce9ca9c5866",
   "metadata": {},
   "outputs": [
    {
     "name": "stderr",
     "output_type": "stream",
     "text": [
      "/var/folders/kh/ftflw6l10qs5cc3hvld2zmjh0000gq/T/ipykernel_47042/4027071226.py:12: FutureWarning: The default value of regex will change from True to False in a future version. In addition, single character regular expressions will *not* be treated as literal strings when regex=True.\n",
      "  x = x.str.replace(\"$\", \"\").str.replace(\",\", \"\")\n"
     ]
    }
   ],
   "source": [
    "preprocess_shuttles_df = preprocess_shuttles(shuttles_df)"
   ]
  },
  {
   "cell_type": "code",
   "execution_count": 114,
   "id": "21e3b71f-7941-42d9-9c3a-d680803c4fc6",
   "metadata": {},
   "outputs": [],
   "source": [
    "model_input_table = create_model_input_table(preprocess_shuttles_df,preprocess_companies_df,reviews_df)"
   ]
  },
  {
   "cell_type": "code",
   "execution_count": 115,
   "id": "58e6ba7f-5e0e-4fe4-bba4-768f0fb3b357",
   "metadata": {},
   "outputs": [
    {
     "data": {
      "text/html": [
       "<div>\n",
       "<style scoped>\n",
       "    .dataframe tbody tr th:only-of-type {\n",
       "        vertical-align: middle;\n",
       "    }\n",
       "\n",
       "    .dataframe tbody tr th {\n",
       "        vertical-align: top;\n",
       "    }\n",
       "\n",
       "    .dataframe thead th {\n",
       "        text-align: right;\n",
       "    }\n",
       "</style>\n",
       "<table border=\"1\" class=\"dataframe\">\n",
       "  <thead>\n",
       "    <tr style=\"text-align: right;\">\n",
       "      <th></th>\n",
       "      <th>id_x</th>\n",
       "      <th>shuttle_location</th>\n",
       "      <th>shuttle_type</th>\n",
       "      <th>engine_type</th>\n",
       "      <th>engine_vendor</th>\n",
       "      <th>engines</th>\n",
       "      <th>passenger_capacity</th>\n",
       "      <th>cancellation_policy</th>\n",
       "      <th>crew</th>\n",
       "      <th>d_check_complete</th>\n",
       "      <th>...</th>\n",
       "      <th>review_scores_crew</th>\n",
       "      <th>review_scores_location</th>\n",
       "      <th>review_scores_price</th>\n",
       "      <th>number_of_reviews</th>\n",
       "      <th>reviews_per_month</th>\n",
       "      <th>id_y</th>\n",
       "      <th>company_rating</th>\n",
       "      <th>company_location</th>\n",
       "      <th>total_fleet_count</th>\n",
       "      <th>iata_approved</th>\n",
       "    </tr>\n",
       "  </thead>\n",
       "  <tbody>\n",
       "    <tr>\n",
       "      <th>0</th>\n",
       "      <td>63561</td>\n",
       "      <td>Niue</td>\n",
       "      <td>Type V5</td>\n",
       "      <td>Quantum</td>\n",
       "      <td>ThetaBase Services</td>\n",
       "      <td>1.0</td>\n",
       "      <td>2</td>\n",
       "      <td>strict</td>\n",
       "      <td>1.0</td>\n",
       "      <td>False</td>\n",
       "      <td>...</td>\n",
       "      <td>10.0</td>\n",
       "      <td>9.0</td>\n",
       "      <td>10.0</td>\n",
       "      <td>133</td>\n",
       "      <td>1.65</td>\n",
       "      <td>35029</td>\n",
       "      <td>1.0</td>\n",
       "      <td>Niue</td>\n",
       "      <td>4.0</td>\n",
       "      <td>False</td>\n",
       "    </tr>\n",
       "    <tr>\n",
       "      <th>1</th>\n",
       "      <td>63561</td>\n",
       "      <td>Niue</td>\n",
       "      <td>Type V5</td>\n",
       "      <td>Quantum</td>\n",
       "      <td>ThetaBase Services</td>\n",
       "      <td>1.0</td>\n",
       "      <td>2</td>\n",
       "      <td>strict</td>\n",
       "      <td>1.0</td>\n",
       "      <td>False</td>\n",
       "      <td>...</td>\n",
       "      <td>10.0</td>\n",
       "      <td>9.0</td>\n",
       "      <td>10.0</td>\n",
       "      <td>133</td>\n",
       "      <td>1.65</td>\n",
       "      <td>35029</td>\n",
       "      <td>1.0</td>\n",
       "      <td>Niue</td>\n",
       "      <td>4.0</td>\n",
       "      <td>False</td>\n",
       "    </tr>\n",
       "    <tr>\n",
       "      <th>2</th>\n",
       "      <td>63561</td>\n",
       "      <td>Niue</td>\n",
       "      <td>Type V5</td>\n",
       "      <td>Quantum</td>\n",
       "      <td>ThetaBase Services</td>\n",
       "      <td>1.0</td>\n",
       "      <td>2</td>\n",
       "      <td>strict</td>\n",
       "      <td>1.0</td>\n",
       "      <td>False</td>\n",
       "      <td>...</td>\n",
       "      <td>10.0</td>\n",
       "      <td>9.0</td>\n",
       "      <td>10.0</td>\n",
       "      <td>133</td>\n",
       "      <td>1.65</td>\n",
       "      <td>35029</td>\n",
       "      <td>1.0</td>\n",
       "      <td>Niue</td>\n",
       "      <td>4.0</td>\n",
       "      <td>False</td>\n",
       "    </tr>\n",
       "    <tr>\n",
       "      <th>3</th>\n",
       "      <td>63561</td>\n",
       "      <td>Niue</td>\n",
       "      <td>Type V5</td>\n",
       "      <td>Quantum</td>\n",
       "      <td>ThetaBase Services</td>\n",
       "      <td>1.0</td>\n",
       "      <td>2</td>\n",
       "      <td>strict</td>\n",
       "      <td>1.0</td>\n",
       "      <td>False</td>\n",
       "      <td>...</td>\n",
       "      <td>10.0</td>\n",
       "      <td>9.0</td>\n",
       "      <td>10.0</td>\n",
       "      <td>133</td>\n",
       "      <td>1.65</td>\n",
       "      <td>35029</td>\n",
       "      <td>1.0</td>\n",
       "      <td>Niue</td>\n",
       "      <td>4.0</td>\n",
       "      <td>False</td>\n",
       "    </tr>\n",
       "    <tr>\n",
       "      <th>4</th>\n",
       "      <td>53260</td>\n",
       "      <td>Niue</td>\n",
       "      <td>Type V5</td>\n",
       "      <td>Quantum</td>\n",
       "      <td>Banks, Wood and Phillips</td>\n",
       "      <td>1.0</td>\n",
       "      <td>2</td>\n",
       "      <td>strict</td>\n",
       "      <td>1.0</td>\n",
       "      <td>False</td>\n",
       "      <td>...</td>\n",
       "      <td>10.0</td>\n",
       "      <td>9.0</td>\n",
       "      <td>10.0</td>\n",
       "      <td>37</td>\n",
       "      <td>0.48</td>\n",
       "      <td>35029</td>\n",
       "      <td>1.0</td>\n",
       "      <td>Niue</td>\n",
       "      <td>4.0</td>\n",
       "      <td>False</td>\n",
       "    </tr>\n",
       "    <tr>\n",
       "      <th>...</th>\n",
       "      <td>...</td>\n",
       "      <td>...</td>\n",
       "      <td>...</td>\n",
       "      <td>...</td>\n",
       "      <td>...</td>\n",
       "      <td>...</td>\n",
       "      <td>...</td>\n",
       "      <td>...</td>\n",
       "      <td>...</td>\n",
       "      <td>...</td>\n",
       "      <td>...</td>\n",
       "      <td>...</td>\n",
       "      <td>...</td>\n",
       "      <td>...</td>\n",
       "      <td>...</td>\n",
       "      <td>...</td>\n",
       "      <td>...</td>\n",
       "      <td>...</td>\n",
       "      <td>...</td>\n",
       "      <td>...</td>\n",
       "      <td>...</td>\n",
       "    </tr>\n",
       "    <tr>\n",
       "      <th>1864307</th>\n",
       "      <td>39094</td>\n",
       "      <td>Russian Federation</td>\n",
       "      <td>Type F5</td>\n",
       "      <td>Quantum</td>\n",
       "      <td>ThetaBase Services</td>\n",
       "      <td>1.0</td>\n",
       "      <td>2</td>\n",
       "      <td>strict</td>\n",
       "      <td>1.0</td>\n",
       "      <td>False</td>\n",
       "      <td>...</td>\n",
       "      <td>10.0</td>\n",
       "      <td>10.0</td>\n",
       "      <td>10.0</td>\n",
       "      <td>1</td>\n",
       "      <td>1.00</td>\n",
       "      <td>42904</td>\n",
       "      <td>0.7</td>\n",
       "      <td>Russian Federation</td>\n",
       "      <td>2.0</td>\n",
       "      <td>True</td>\n",
       "    </tr>\n",
       "    <tr>\n",
       "      <th>1864357</th>\n",
       "      <td>20330</td>\n",
       "      <td>Uzbekistan</td>\n",
       "      <td>Type V5</td>\n",
       "      <td>Quantum</td>\n",
       "      <td>ThetaBase Services</td>\n",
       "      <td>1.0</td>\n",
       "      <td>2</td>\n",
       "      <td>flexible</td>\n",
       "      <td>1.0</td>\n",
       "      <td>False</td>\n",
       "      <td>...</td>\n",
       "      <td>10.0</td>\n",
       "      <td>10.0</td>\n",
       "      <td>10.0</td>\n",
       "      <td>1</td>\n",
       "      <td>1.00</td>\n",
       "      <td>5701</td>\n",
       "      <td>1.0</td>\n",
       "      <td>Costa Rica</td>\n",
       "      <td>1.0</td>\n",
       "      <td>True</td>\n",
       "    </tr>\n",
       "    <tr>\n",
       "      <th>1864386</th>\n",
       "      <td>16445</td>\n",
       "      <td>Nicaragua</td>\n",
       "      <td>Type V5</td>\n",
       "      <td>Plasma</td>\n",
       "      <td>ThetaBase Services</td>\n",
       "      <td>1.0</td>\n",
       "      <td>1</td>\n",
       "      <td>flexible</td>\n",
       "      <td>3.0</td>\n",
       "      <td>False</td>\n",
       "      <td>...</td>\n",
       "      <td>10.0</td>\n",
       "      <td>10.0</td>\n",
       "      <td>10.0</td>\n",
       "      <td>3</td>\n",
       "      <td>3.00</td>\n",
       "      <td>13728</td>\n",
       "      <td>1.0</td>\n",
       "      <td>Pakistan</td>\n",
       "      <td>1.0</td>\n",
       "      <td>False</td>\n",
       "    </tr>\n",
       "    <tr>\n",
       "      <th>1864448</th>\n",
       "      <td>76469</td>\n",
       "      <td>Bouvet Island (Bouvetoya)</td>\n",
       "      <td>Type V5</td>\n",
       "      <td>Quantum</td>\n",
       "      <td>ThetaBase Services</td>\n",
       "      <td>1.0</td>\n",
       "      <td>2</td>\n",
       "      <td>moderate</td>\n",
       "      <td>1.0</td>\n",
       "      <td>False</td>\n",
       "      <td>...</td>\n",
       "      <td>10.0</td>\n",
       "      <td>10.0</td>\n",
       "      <td>10.0</td>\n",
       "      <td>1</td>\n",
       "      <td>1.00</td>\n",
       "      <td>41714</td>\n",
       "      <td>1.0</td>\n",
       "      <td>Lebanon</td>\n",
       "      <td>1.0</td>\n",
       "      <td>False</td>\n",
       "    </tr>\n",
       "    <tr>\n",
       "      <th>1864889</th>\n",
       "      <td>75780</td>\n",
       "      <td>Russian Federation</td>\n",
       "      <td>Type V5</td>\n",
       "      <td>Plasma</td>\n",
       "      <td>ThetaBase Services</td>\n",
       "      <td>1.0</td>\n",
       "      <td>2</td>\n",
       "      <td>strict</td>\n",
       "      <td>1.0</td>\n",
       "      <td>True</td>\n",
       "      <td>...</td>\n",
       "      <td>10.0</td>\n",
       "      <td>10.0</td>\n",
       "      <td>10.0</td>\n",
       "      <td>1</td>\n",
       "      <td>1.00</td>\n",
       "      <td>47766</td>\n",
       "      <td>1.0</td>\n",
       "      <td>Uzbekistan</td>\n",
       "      <td>1.0</td>\n",
       "      <td>True</td>\n",
       "    </tr>\n",
       "  </tbody>\n",
       "</table>\n",
       "<p>759609 rows × 28 columns</p>\n",
       "</div>"
      ],
      "text/plain": [
       "          id_x           shuttle_location shuttle_type engine_type  \\\n",
       "0        63561                       Niue      Type V5     Quantum   \n",
       "1        63561                       Niue      Type V5     Quantum   \n",
       "2        63561                       Niue      Type V5     Quantum   \n",
       "3        63561                       Niue      Type V5     Quantum   \n",
       "4        53260                       Niue      Type V5     Quantum   \n",
       "...        ...                        ...          ...         ...   \n",
       "1864307  39094         Russian Federation      Type F5     Quantum   \n",
       "1864357  20330                 Uzbekistan      Type V5     Quantum   \n",
       "1864386  16445                  Nicaragua      Type V5      Plasma   \n",
       "1864448  76469  Bouvet Island (Bouvetoya)      Type V5     Quantum   \n",
       "1864889  75780         Russian Federation      Type V5      Plasma   \n",
       "\n",
       "                    engine_vendor  engines  passenger_capacity  \\\n",
       "0              ThetaBase Services      1.0                   2   \n",
       "1              ThetaBase Services      1.0                   2   \n",
       "2              ThetaBase Services      1.0                   2   \n",
       "3              ThetaBase Services      1.0                   2   \n",
       "4        Banks, Wood and Phillips      1.0                   2   \n",
       "...                           ...      ...                 ...   \n",
       "1864307        ThetaBase Services      1.0                   2   \n",
       "1864357        ThetaBase Services      1.0                   2   \n",
       "1864386        ThetaBase Services      1.0                   1   \n",
       "1864448        ThetaBase Services      1.0                   2   \n",
       "1864889        ThetaBase Services      1.0                   2   \n",
       "\n",
       "        cancellation_policy  crew  d_check_complete  ...  review_scores_crew  \\\n",
       "0                    strict   1.0             False  ...                10.0   \n",
       "1                    strict   1.0             False  ...                10.0   \n",
       "2                    strict   1.0             False  ...                10.0   \n",
       "3                    strict   1.0             False  ...                10.0   \n",
       "4                    strict   1.0             False  ...                10.0   \n",
       "...                     ...   ...               ...  ...                 ...   \n",
       "1864307              strict   1.0             False  ...                10.0   \n",
       "1864357            flexible   1.0             False  ...                10.0   \n",
       "1864386            flexible   3.0             False  ...                10.0   \n",
       "1864448            moderate   1.0             False  ...                10.0   \n",
       "1864889              strict   1.0              True  ...                10.0   \n",
       "\n",
       "         review_scores_location  review_scores_price  number_of_reviews  \\\n",
       "0                           9.0                 10.0                133   \n",
       "1                           9.0                 10.0                133   \n",
       "2                           9.0                 10.0                133   \n",
       "3                           9.0                 10.0                133   \n",
       "4                           9.0                 10.0                 37   \n",
       "...                         ...                  ...                ...   \n",
       "1864307                    10.0                 10.0                  1   \n",
       "1864357                    10.0                 10.0                  1   \n",
       "1864386                    10.0                 10.0                  3   \n",
       "1864448                    10.0                 10.0                  1   \n",
       "1864889                    10.0                 10.0                  1   \n",
       "\n",
       "         reviews_per_month   id_y  company_rating    company_location  \\\n",
       "0                     1.65  35029             1.0                Niue   \n",
       "1                     1.65  35029             1.0                Niue   \n",
       "2                     1.65  35029             1.0                Niue   \n",
       "3                     1.65  35029             1.0                Niue   \n",
       "4                     0.48  35029             1.0                Niue   \n",
       "...                    ...    ...             ...                 ...   \n",
       "1864307               1.00  42904             0.7  Russian Federation   \n",
       "1864357               1.00   5701             1.0          Costa Rica   \n",
       "1864386               3.00  13728             1.0            Pakistan   \n",
       "1864448               1.00  41714             1.0             Lebanon   \n",
       "1864889               1.00  47766             1.0          Uzbekistan   \n",
       "\n",
       "         total_fleet_count  iata_approved  \n",
       "0                      4.0          False  \n",
       "1                      4.0          False  \n",
       "2                      4.0          False  \n",
       "3                      4.0          False  \n",
       "4                      4.0          False  \n",
       "...                    ...            ...  \n",
       "1864307                2.0           True  \n",
       "1864357                1.0           True  \n",
       "1864386                1.0          False  \n",
       "1864448                1.0          False  \n",
       "1864889                1.0           True  \n",
       "\n",
       "[759609 rows x 28 columns]"
      ]
     },
     "execution_count": 115,
     "metadata": {},
     "output_type": "execute_result"
    }
   ],
   "source": [
    "model_input_table"
   ]
  },
  {
   "cell_type": "code",
   "execution_count": 116,
   "id": "ae787add-eab5-4f3b-9c54-d2dcf0239ca8",
   "metadata": {},
   "outputs": [
    {
     "name": "stdout",
     "output_type": "stream",
     "text": [
      "<class 'pandas.core.frame.DataFrame'>\n",
      "Int64Index: 759609 entries, 0 to 1864889\n",
      "Data columns (total 28 columns):\n",
      " #   Column                   Non-Null Count   Dtype  \n",
      "---  ------                   --------------   -----  \n",
      " 0   id_x                     759609 non-null  int64  \n",
      " 1   shuttle_location         759609 non-null  object \n",
      " 2   shuttle_type             759609 non-null  object \n",
      " 3   engine_type              759609 non-null  object \n",
      " 4   engine_vendor            759609 non-null  object \n",
      " 5   engines                  759609 non-null  float64\n",
      " 6   passenger_capacity       759609 non-null  int64  \n",
      " 7   cancellation_policy      759609 non-null  object \n",
      " 8   crew                     759609 non-null  float64\n",
      " 9   d_check_complete         759609 non-null  bool   \n",
      " 10  moon_clearance_complete  759609 non-null  bool   \n",
      " 11  price                    759609 non-null  float64\n",
      " 12  company_id               759609 non-null  int64  \n",
      " 13  shuttle_id               759609 non-null  int64  \n",
      " 14  review_scores_rating     759609 non-null  float64\n",
      " 15  review_scores_comfort    759609 non-null  float64\n",
      " 16  review_scores_amenities  759609 non-null  float64\n",
      " 17  review_scores_trip       759609 non-null  float64\n",
      " 18  review_scores_crew       759609 non-null  float64\n",
      " 19  review_scores_location   759609 non-null  float64\n",
      " 20  review_scores_price      759609 non-null  float64\n",
      " 21  number_of_reviews        759609 non-null  int64  \n",
      " 22  reviews_per_month        759609 non-null  float64\n",
      " 23  id_y                     759609 non-null  int64  \n",
      " 24  company_rating           759609 non-null  float64\n",
      " 25  company_location         759609 non-null  object \n",
      " 26  total_fleet_count        759609 non-null  float64\n",
      " 27  iata_approved            759609 non-null  bool   \n",
      "dtypes: bool(3), float64(13), int64(6), object(6)\n",
      "memory usage: 152.9+ MB\n"
     ]
    }
   ],
   "source": [
    "model_input_table.info()"
   ]
  },
  {
   "cell_type": "code",
   "execution_count": 117,
   "id": "c41ebb32-3975-4826-a13b-82600ba55272",
   "metadata": {},
   "outputs": [],
   "source": [
    "y = model_input_table.price\n",
    "X = model_input_table.drop(['price','id_x','company_id','shuttle_id','id_y'],axis=1)"
   ]
  },
  {
   "cell_type": "code",
   "execution_count": 118,
   "id": "aa8ba0c9-fd85-4d00-a8f1-1773dd7e7f7b",
   "metadata": {},
   "outputs": [
    {
     "name": "stdout",
     "output_type": "stream",
     "text": [
      "<class 'pandas.core.frame.DataFrame'>\n",
      "Int64Index: 759609 entries, 0 to 1864889\n",
      "Data columns (total 23 columns):\n",
      " #   Column                   Non-Null Count   Dtype  \n",
      "---  ------                   --------------   -----  \n",
      " 0   shuttle_location         759609 non-null  object \n",
      " 1   shuttle_type             759609 non-null  object \n",
      " 2   engine_type              759609 non-null  object \n",
      " 3   engine_vendor            759609 non-null  object \n",
      " 4   engines                  759609 non-null  float64\n",
      " 5   passenger_capacity       759609 non-null  int64  \n",
      " 6   cancellation_policy      759609 non-null  object \n",
      " 7   crew                     759609 non-null  float64\n",
      " 8   d_check_complete         759609 non-null  bool   \n",
      " 9   moon_clearance_complete  759609 non-null  bool   \n",
      " 10  review_scores_rating     759609 non-null  float64\n",
      " 11  review_scores_comfort    759609 non-null  float64\n",
      " 12  review_scores_amenities  759609 non-null  float64\n",
      " 13  review_scores_trip       759609 non-null  float64\n",
      " 14  review_scores_crew       759609 non-null  float64\n",
      " 15  review_scores_location   759609 non-null  float64\n",
      " 16  review_scores_price      759609 non-null  float64\n",
      " 17  number_of_reviews        759609 non-null  int64  \n",
      " 18  reviews_per_month        759609 non-null  float64\n",
      " 19  company_rating           759609 non-null  float64\n",
      " 20  company_location         759609 non-null  object \n",
      " 21  total_fleet_count        759609 non-null  float64\n",
      " 22  iata_approved            759609 non-null  bool   \n",
      "dtypes: bool(3), float64(12), int64(2), object(6)\n",
      "memory usage: 123.9+ MB\n"
     ]
    }
   ],
   "source": [
    "X.info()"
   ]
  },
  {
   "cell_type": "code",
   "execution_count": 119,
   "id": "8ad4821d-fc67-419c-ba5f-d46b466f6d76",
   "metadata": {},
   "outputs": [
    {
     "name": "stdout",
     "output_type": "stream",
     "text": [
      "['d_check_complete', 'moon_clearance_complete', 'iata_approved']\n"
     ]
    }
   ],
   "source": [
    "#Convert Bool values to 0-1\n",
    "def bool_to_int(df):\n",
    "    bool_col = [col for col in df.columns if df[col].dtypes == 'bool']\n",
    "    print(bool_col)\n",
    "    for col in bool_col:\n",
    "        df[col] = df[col].astype('int64')\n",
    "    return df\n",
    "\n",
    "X = bool_to_int(X)"
   ]
  },
  {
   "cell_type": "code",
   "execution_count": 120,
   "id": "999ff405-8e08-4ea1-8c82-fc15a2d4f8c9",
   "metadata": {},
   "outputs": [
    {
     "name": "stdout",
     "output_type": "stream",
     "text": [
      "Categorical columns : ['engine_type', 'engine_vendor', 'cancellation_policy']\n",
      "Numerical columns   : ['engines', 'passenger_capacity', 'crew', 'd_check_complete', 'moon_clearance_complete', 'review_scores_rating', 'review_scores_comfort', 'review_scores_amenities', 'review_scores_trip', 'review_scores_crew', 'review_scores_location', 'review_scores_price', 'number_of_reviews', 'reviews_per_month', 'company_rating', 'total_fleet_count', 'iata_approved']\n"
     ]
    }
   ],
   "source": [
    "cat_cols = [col for col in X.columns if X[col].dtypes == 'object' and X[col].nunique() <= 10]\n",
    "num_cols = [col for col in X.columns if X[col].dtypes in ('int64','float64')]\n",
    "print(\"Categorical columns :\",cat_cols)\n",
    "print(\"Numerical columns   :\",num_cols)"
   ]
  },
  {
   "cell_type": "code",
   "execution_count": 121,
   "id": "68ba9ffc-bb38-4857-9dfc-6a994fefeca9",
   "metadata": {},
   "outputs": [
    {
     "data": {
      "text/plain": [
       "(759609, 23)"
      ]
     },
     "execution_count": 121,
     "metadata": {},
     "output_type": "execute_result"
    }
   ],
   "source": [
    "X.shape"
   ]
  },
  {
   "cell_type": "code",
   "execution_count": 122,
   "id": "2b7c73ae-bd3e-4d1b-85a2-f8dc0936c335",
   "metadata": {},
   "outputs": [
    {
     "data": {
      "text/plain": [
       "Plasma     669699\n",
       "Quantum     83227\n",
       "Nuclear      6683\n",
       "Name: engine_type, dtype: int64"
      ]
     },
     "execution_count": 122,
     "metadata": {},
     "output_type": "execute_result"
    }
   ],
   "source": [
    "X['engine_type'].value_counts()"
   ]
  },
  {
   "cell_type": "code",
   "execution_count": 123,
   "id": "86e6628f-bf75-43db-b3cd-50b1cc4151c5",
   "metadata": {},
   "outputs": [
    {
     "data": {
      "text/plain": [
       "ThetaBase Services                  758528\n",
       "Banks, Wood and Phillips               797\n",
       "Warwick Technology Multinational       168\n",
       "SIT Technology Unlimited                81\n",
       "MCW Global                              35\n",
       "Name: engine_vendor, dtype: int64"
      ]
     },
     "execution_count": 123,
     "metadata": {},
     "output_type": "execute_result"
    }
   ],
   "source": [
    "X['engine_vendor'].value_counts()"
   ]
  },
  {
   "cell_type": "code",
   "execution_count": 124,
   "id": "7341bddc-8cd3-4bd4-b24a-b68eda3842eb",
   "metadata": {},
   "outputs": [
    {
     "data": {
      "text/plain": [
       "strict      673660\n",
       "moderate     55883\n",
       "flexible     30066\n",
       "Name: cancellation_policy, dtype: int64"
      ]
     },
     "execution_count": 124,
     "metadata": {},
     "output_type": "execute_result"
    }
   ],
   "source": [
    "X['cancellation_policy'].value_counts()"
   ]
  },
  {
   "cell_type": "code",
   "execution_count": 125,
   "id": "9d9c5b85-2c80-4c55-80e4-b6c3587c66b8",
   "metadata": {},
   "outputs": [],
   "source": [
    "X = X[cat_cols + num_cols].copy()"
   ]
  },
  {
   "cell_type": "code",
   "execution_count": 126,
   "id": "1e40959e-db3b-4091-b229-7e12a525ede2",
   "metadata": {},
   "outputs": [
    {
     "data": {
      "text/plain": [
       "(759609, 20)"
      ]
     },
     "execution_count": 126,
     "metadata": {},
     "output_type": "execute_result"
    }
   ],
   "source": [
    "X.shape"
   ]
  },
  {
   "cell_type": "code",
   "execution_count": 127,
   "id": "c9ee48f0-acb9-4939-a3f0-ceef625851e5",
   "metadata": {},
   "outputs": [],
   "source": [
    "from sklearn.pipeline import Pipeline\n",
    "from sklearn.impute import SimpleImputer\n",
    "from sklearn.preprocessing import StandardScaler, OneHotEncoder, LabelEncoder\n",
    "from sklearn.compose import ColumnTransformer\n",
    "from sklearn.model_selection import train_test_split\n",
    "from sklearn.ensemble import RandomForestRegressor\n",
    "from sklearn.metrics import r2_score"
   ]
  },
  {
   "cell_type": "code",
   "execution_count": 128,
   "id": "52e3b6b3-e850-4489-a225-1d8c6ef5039e",
   "metadata": {},
   "outputs": [
    {
     "name": "stdout",
     "output_type": "stream",
     "text": [
      "X_train shape: (531726, 20)\n",
      "y_train shape: (531726,)\n",
      "X_test shape: (227883, 20)\n",
      "y_test shape: (227883, 20)\n"
     ]
    }
   ],
   "source": [
    "X_train, X_test, y_train, y_test = train_test_split(X, y, test_size=0.3)\n",
    "print(\"X_train shape:\",X_train.shape)\n",
    "print(\"y_train shape:\",y_train.shape)\n",
    "print(\"X_test shape:\",X_test.shape)\n",
    "print(\"y_test shape:\",X_test.shape)"
   ]
  },
  {
   "cell_type": "code",
   "execution_count": 132,
   "id": "ed2233e9-f4b2-4fef-8d35-f98bcf86e0ad",
   "metadata": {},
   "outputs": [],
   "source": [
    "#Preprocessing Numerical Data\n",
    "num_transformer = Pipeline(steps=[\n",
    "                                  ('scaler',StandardScaler())\n",
    "                                  ])\n",
    "\n",
    "#Preprocessing Categorical Data\n",
    "cat_transformer = Pipeline(steps=[\n",
    "                                  ('onehot',OneHotEncoder(handle_unknown='ignore'))\n",
    "                                  ])\t\t\n",
    "\t\t\n",
    "\n",
    "\n",
    "#Bundle Preprocessing steps\n",
    "preprocessor = ColumnTransformer(transformers=[\n",
    "                                               ('num',num_transformer,num_cols),\n",
    "                                               ('cat',cat_transformer,cat_cols)\n",
    "])\n"
   ]
  },
  {
   "cell_type": "code",
   "execution_count": 133,
   "id": "92259b74-9546-446a-8db4-57da59853b8a",
   "metadata": {},
   "outputs": [],
   "source": [
    "RFregressor = RandomForestRegressor(bootstrap=True, ccp_alpha=0.0,\n",
    "                       max_depth=300, max_features='auto',\n",
    "                       max_leaf_nodes=None, max_samples=None,\n",
    "                       min_impurity_decrease=0.0, min_impurity_split=None,\n",
    "                       min_samples_leaf=5, min_samples_split=10,\n",
    "                       min_weight_fraction_leaf=0.0, n_estimators=500,\n",
    "                       n_jobs=-1, oob_score=False, random_state=42, verbose=0,\n",
    "                       warm_start=False)\n",
    "\n",
    "pipeline_RFregressor = Pipeline(steps=[('preprocessor', preprocessor),\n",
    "                           ('RFregressor', RFregressor)])"
   ]
  },
  {
   "cell_type": "code",
   "execution_count": 134,
   "id": "9a59d3d9-0bc9-432e-9557-85a841c6c038",
   "metadata": {},
   "outputs": [
    {
     "data": {
      "text/plain": [
       "Pipeline(steps=[('preprocessor',\n",
       "                 ColumnTransformer(transformers=[('num',\n",
       "                                                  Pipeline(steps=[('scaler',\n",
       "                                                                   StandardScaler())]),\n",
       "                                                  ['engines',\n",
       "                                                   'passenger_capacity', 'crew',\n",
       "                                                   'd_check_complete',\n",
       "                                                   'moon_clearance_complete',\n",
       "                                                   'review_scores_rating',\n",
       "                                                   'review_scores_comfort',\n",
       "                                                   'review_scores_amenities',\n",
       "                                                   'review_scores_trip',\n",
       "                                                   'review_scores_crew',\n",
       "                                                   'review_scores_location',\n",
       "                                                   'review_s...\n",
       "                                                   'number_of_reviews',\n",
       "                                                   'reviews_per_month',\n",
       "                                                   'company_rating',\n",
       "                                                   'total_fleet_count',\n",
       "                                                   'iata_approved']),\n",
       "                                                 ('cat',\n",
       "                                                  Pipeline(steps=[('onehot',\n",
       "                                                                   OneHotEncoder(handle_unknown='ignore'))]),\n",
       "                                                  ['engine_type',\n",
       "                                                   'engine_vendor',\n",
       "                                                   'cancellation_policy'])])),\n",
       "                ('RFregressor',\n",
       "                 RandomForestRegressor(max_depth=300, min_samples_leaf=5,\n",
       "                                       min_samples_split=10, n_estimators=500,\n",
       "                                       n_jobs=-1, random_state=42))])"
      ]
     },
     "execution_count": 134,
     "metadata": {},
     "output_type": "execute_result"
    }
   ],
   "source": [
    "pipeline_RFregressor.fit(X_train, y_train)"
   ]
  },
  {
   "cell_type": "code",
   "execution_count": 135,
   "id": "457d6698-35c3-42fd-bc80-d78a536348d6",
   "metadata": {},
   "outputs": [],
   "source": [
    "y_pred = pipeline_RFregressor.predict(X_test)\n",
    "score = r2_score(y_test, y_pred)"
   ]
  },
  {
   "cell_type": "code",
   "execution_count": 136,
   "id": "d8a79ba5-9ac5-4f28-8fec-a10eeada4c1e",
   "metadata": {},
   "outputs": [
    {
     "name": "stdout",
     "output_type": "stream",
     "text": [
      "RFregressorModel with more features have a coefficient R^2 of %.3f on test data. 0.9877658439158198\n"
     ]
    }
   ],
   "source": [
    "print(\"RFregressorModel with more features have a coefficient R^2 of %.3f on test data.\", score)"
   ]
  },
  {
   "cell_type": "code",
   "execution_count": 137,
   "id": "36aec030-3bc0-4bbf-b76f-f66aa44f83f5",
   "metadata": {},
   "outputs": [],
   "source": [
    "importance = RFregressor.feature_importances_"
   ]
  },
  {
   "cell_type": "code",
   "execution_count": 138,
   "id": "0b5cfffd-a2b0-4f22-971a-3b12f732d3ac",
   "metadata": {},
   "outputs": [
    {
     "name": "stdout",
     "output_type": "stream",
     "text": [
      "Feature: 0, Score: 0.39734\n",
      "Feature: 1, Score: 0.07087\n",
      "Feature: 2, Score: 0.02345\n",
      "Feature: 3, Score: 0.00840\n",
      "Feature: 4, Score: 0.00000\n",
      "Feature: 5, Score: 0.04836\n",
      "Feature: 6, Score: 0.01631\n",
      "Feature: 7, Score: 0.01303\n",
      "Feature: 8, Score: 0.01468\n",
      "Feature: 9, Score: 0.00949\n",
      "Feature: 10, Score: 0.02592\n",
      "Feature: 11, Score: 0.03210\n",
      "Feature: 12, Score: 0.03406\n",
      "Feature: 13, Score: 0.10515\n",
      "Feature: 14, Score: 0.00848\n",
      "Feature: 15, Score: 0.11032\n",
      "Feature: 16, Score: 0.00467\n",
      "Feature: 17, Score: 0.00004\n",
      "Feature: 18, Score: 0.07190\n",
      "Feature: 19, Score: 0.00017\n",
      "Feature: 20, Score: 0.00000\n",
      "Feature: 21, Score: 0.00000\n",
      "Feature: 22, Score: 0.00000\n",
      "Feature: 23, Score: 0.00000\n",
      "Feature: 24, Score: 0.00000\n",
      "Feature: 25, Score: 0.00130\n",
      "Feature: 26, Score: 0.00225\n",
      "Feature: 27, Score: 0.00170\n"
     ]
    }
   ],
   "source": [
    "# summarize feature importance\n",
    "for i,v in enumerate(importance):\n",
    "\tprint('Feature: %0d, Score: %.5f' % (i,v))"
   ]
  },
  {
   "cell_type": "code",
   "execution_count": 90,
   "id": "a6e51a25-8b5c-4c02-a511-295d601eaed2",
   "metadata": {},
   "outputs": [
    {
     "data": {
      "text/plain": [
       "numpy.ndarray"
      ]
     },
     "execution_count": 90,
     "metadata": {},
     "output_type": "execute_result"
    }
   ],
   "source": [
    "type(importance)"
   ]
  },
  {
   "cell_type": "code",
   "execution_count": null,
   "id": "960ae057-f33e-48b5-9713-0eeb10f2caa1",
   "metadata": {},
   "outputs": [],
   "source": []
  }
 ],
 "metadata": {
  "kernelspec": {
   "display_name": "spaceflightsTutorial",
   "language": "python",
   "name": "python3"
  },
  "language_info": {
   "codemirror_mode": {
    "name": "ipython",
    "version": 3
   },
   "file_extension": ".py",
   "mimetype": "text/x-python",
   "name": "python",
   "nbconvert_exporter": "python",
   "pygments_lexer": "ipython3",
   "version": "3.8.9"
  }
 },
 "nbformat": 4,
 "nbformat_minor": 5
}
