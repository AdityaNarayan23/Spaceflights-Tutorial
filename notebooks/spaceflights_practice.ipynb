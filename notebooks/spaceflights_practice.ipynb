{
 "cells": [
  {
   "cell_type": "markdown",
   "id": "15a172dc-4fff-4834-9c80-0bbb50619dae",
   "metadata": {},
   "source": [
    "#Trying Jupyter Lab"
   ]
  },
  {
   "cell_type": "code",
   "execution_count": 1,
   "id": "f4cdf7c9-8d72-4a14-80cc-0115615efd2f",
   "metadata": {},
   "outputs": [
    {
     "name": "stdout",
     "output_type": "stream",
     "text": [
      "Hello! ------------ Inside src/process/__init__.py\n",
      "2021-10-14 12:26:58,724 - kedro.framework.session.store - INFO - `read()` not implemented for `BaseSessionStore`. Assuming empty store.\n",
      "2021-10-14 12:26:58,778 - root - INFO - ** Kedro project spaceflightsTutorial\n",
      "2021-10-14 12:26:58,779 - root - INFO - Defined global variable `context`, `session` and `catalog`\n",
      "2021-10-14 12:26:58,788 - root - INFO - Registered line magic `run_viz`\n"
     ]
    }
   ],
   "source": [
    "%reload_kedro"
   ]
  },
  {
   "cell_type": "code",
   "execution_count": 2,
   "id": "d9c5bacc-d660-4278-9969-254b57926984",
   "metadata": {},
   "outputs": [
    {
     "name": "stdout",
     "output_type": "stream",
     "text": [
      "2021-10-14 12:27:06,641 - root - INFO - ** Kedro project spaceflightsRepo\n",
      "Hello! ------------ Inside src/process/pipelines/data_processing/__init__.py\n",
      "2021-10-14 12:27:07,493 - kedro.io.data_catalog - INFO - Loading data from `shuttles` (ExcelDataSet)...\n"
     ]
    },
    {
     "name": "stderr",
     "output_type": "stream",
     "text": [
      "/Users/adityan/Work/kedro-spaceflights-tutorial/spaceflights-venv/lib/python3.8/site-packages/kedro/extras/datasets/pandas/excel_dataset.py:168: FutureWarning: Your version of xlrd is 1.2.0. In xlrd >= 2.0, only the xls format is supported. Install openpyxl instead.\n",
      "  return pd.read_excel(fs_file, **self._load_args)\n",
      "/Users/adityan/Work/kedro-spaceflights-tutorial/spaceflights-venv/lib/python3.8/site-packages/xlrd/xlsx.py:39: DeprecationWarning: defusedxml.cElementTree is deprecated, import from defusedxml.ElementTree instead.\n",
      "  try: import defusedxml.cElementTree as ET\n",
      "/Users/adityan/Work/kedro-spaceflights-tutorial/spaceflights-venv/lib/python3.8/site-packages/xlrd/xlsx.py:266: DeprecationWarning: This method will be removed in future versions.  Use 'tree.iter()' or 'list(tree.iter())' instead.\n",
      "  for elem in self.tree.iter() if Element_has_iter else self.tree.getiterator():\n",
      "/Users/adityan/Work/kedro-spaceflights-tutorial/spaceflights-venv/lib/python3.8/site-packages/xlrd/xlsx.py:312: DeprecationWarning: This method will be removed in future versions.  Use 'tree.iter()' or 'list(tree.iter())' instead.\n",
      "  for elem in self.tree.iter() if Element_has_iter else self.tree.getiterator():\n"
     ]
    },
    {
     "name": "stdout",
     "output_type": "stream",
     "text": [
      "2021-10-14 12:27:16,327 - kedro.pipeline.node - INFO - Running node: preprocess_shuttles_node: preprocess_shuttles([shuttles]) -> [preprocessed_shuttles]\n",
      "2021-10-14 12:27:16,405 - kedro.io.data_catalog - INFO - Saving data to `preprocessed_shuttles` (CSVDataSet)...\n"
     ]
    },
    {
     "name": "stderr",
     "output_type": "stream",
     "text": [
      "/Users/adityan/Work/kedro-spaceflights-tutorial/spaceflightsRepo/src/process/pipelines/data_processing/nodes.py:42: FutureWarning: The default value of regex will change from True to False in a future version. In addition, single character regular expressions will *not* be treated as literal strings when regex=True.\n",
      "  x = x.str.replace(\"$\", \"\").str.replace(\",\", \"\")\n"
     ]
    },
    {
     "name": "stdout",
     "output_type": "stream",
     "text": [
      "2021-10-14 12:27:16,764 - kedro.runner.sequential_runner - INFO - Completed 1 out of 8 tasks\n",
      "2021-10-14 12:27:16,765 - kedro.io.data_catalog - INFO - Loading data from `companies` (CSVDataSet)...\n",
      "2021-10-14 12:27:16,802 - kedro.pipeline.node - INFO - Running node: preprocess_companies_node: preprocess_companies([companies]) -> [preprocessed_companies]\n",
      "2021-10-14 12:27:16,837 - kedro.io.data_catalog - INFO - Saving data to `preprocessed_companies` (CSVDataSet)...\n",
      "2021-10-14 12:27:17,018 - kedro.runner.sequential_runner - INFO - Completed 2 out of 8 tasks\n",
      "2021-10-14 12:27:17,019 - kedro.io.data_catalog - INFO - Loading data from `preprocessed_shuttles` (CSVDataSet)...\n",
      "2021-10-14 12:27:17,110 - kedro.io.data_catalog - INFO - Loading data from `preprocessed_companies` (CSVDataSet)...\n",
      "2021-10-14 12:27:17,143 - kedro.io.data_catalog - INFO - Loading data from `reviews` (CSVDataSet)...\n",
      "2021-10-14 12:27:17,205 - kedro.pipeline.node - INFO - Running node: create_model_input_table_node: create_model_input_table([preprocessed_companies,preprocessed_shuttles,reviews]) -> [model_input_table]\n",
      "2021-10-14 12:27:18,835 - kedro.io.data_catalog - INFO - Saving data to `model_input_table` (CSVDataSet)...\n",
      "2021-10-14 12:27:26,127 - kedro.runner.sequential_runner - INFO - Completed 3 out of 8 tasks\n",
      "2021-10-14 12:27:26,127 - kedro.io.data_catalog - INFO - Loading data from `model_input_table` (CSVDataSet)...\n",
      "2021-10-14 12:27:27,487 - kedro.io.data_catalog - INFO - Loading data from `parameters` (MemoryDataSet)...\n",
      "2021-10-14 12:27:27,488 - kedro.pipeline.node - INFO - Running node: split_data_node: split_data([model_input_table,parameters]) -> [X_test,X_train,y_test,y_train]\n",
      "2021-10-14 12:27:27,585 - kedro.io.data_catalog - INFO - Saving data to `X_train` (MemoryDataSet)...\n",
      "2021-10-14 12:27:27,590 - kedro.io.data_catalog - INFO - Saving data to `X_test` (MemoryDataSet)...\n",
      "2021-10-14 12:27:27,592 - kedro.io.data_catalog - INFO - Saving data to `y_train` (MemoryDataSet)...\n",
      "2021-10-14 12:27:27,594 - kedro.io.data_catalog - INFO - Saving data to `y_test` (MemoryDataSet)...\n",
      "2021-10-14 12:27:27,619 - kedro.runner.sequential_runner - INFO - Completed 4 out of 8 tasks\n",
      "2021-10-14 12:27:27,620 - kedro.io.data_catalog - INFO - Loading data from `X_train` (MemoryDataSet)...\n",
      "2021-10-14 12:27:27,626 - kedro.io.data_catalog - INFO - Loading data from `y_train` (MemoryDataSet)...\n",
      "2021-10-14 12:27:27,628 - kedro.pipeline.node - INFO - Running node: train_model_RF_node: train_model_RF([X_train,y_train]) -> [RF_regressor]\n",
      "2021-10-14 12:28:11,754 - kedro.io.data_catalog - INFO - Saving data to `RF_regressor` (PickleDataSet)...\n",
      "2021-10-14 12:28:11,880 - kedro.runner.sequential_runner - INFO - Completed 5 out of 8 tasks\n",
      "2021-10-14 12:28:11,881 - kedro.io.data_catalog - INFO - Loading data from `X_train` (MemoryDataSet)...\n",
      "2021-10-14 12:28:11,893 - kedro.io.data_catalog - INFO - Loading data from `y_train` (MemoryDataSet)...\n",
      "2021-10-14 12:28:11,897 - kedro.pipeline.node - INFO - Running node: train_model_node: train_model([X_train,y_train]) -> [regressor]\n",
      "2021-10-14 12:28:12,284 - kedro.io.data_catalog - INFO - Saving data to `regressor` (PickleDataSet)...\n",
      "2021-10-14 12:28:12,295 - kedro.runner.sequential_runner - INFO - Completed 6 out of 8 tasks\n",
      "2021-10-14 12:28:12,296 - kedro.io.data_catalog - INFO - Loading data from `regressor` (PickleDataSet)...\n",
      "2021-10-14 12:28:12,297 - kedro.io.data_catalog - INFO - Loading data from `X_test` (MemoryDataSet)...\n",
      "2021-10-14 12:28:12,299 - kedro.io.data_catalog - INFO - Loading data from `y_test` (MemoryDataSet)...\n",
      "2021-10-14 12:28:12,300 - kedro.pipeline.node - INFO - Running node: evaluate_model_node: evaluate_model([X_test,regressor,y_test]) -> None\n",
      "2021-10-14 12:28:12,383 - process.pipelines.data_science.nodes - INFO - Model has a coefficient R^2 of 0.462 on test data.\n",
      "2021-10-14 12:28:12,388 - kedro.runner.sequential_runner - INFO - Completed 7 out of 8 tasks\n",
      "2021-10-14 12:28:12,389 - kedro.io.data_catalog - INFO - Loading data from `RF_regressor` (PickleDataSet)...\n",
      "2021-10-14 12:28:12,501 - kedro.io.data_catalog - INFO - Loading data from `X_test` (MemoryDataSet)...\n",
      "2021-10-14 12:28:12,504 - kedro.io.data_catalog - INFO - Loading data from `y_test` (MemoryDataSet)...\n",
      "2021-10-14 12:28:12,506 - kedro.pipeline.node - INFO - Running node: evaluate_model_RF_node: evaluate_model_RF([RF_regressor,X_test,y_test]) -> None\n",
      "2021-10-14 12:28:14,326 - process.pipelines.data_science.nodes - INFO - RandomForest Model has a coefficient R^2 of 0.797 on test data.\n",
      "2021-10-14 12:28:14,334 - kedro.runner.sequential_runner - INFO - Completed 8 out of 8 tasks\n",
      "2021-10-14 12:28:14,334 - kedro.runner.sequential_runner - INFO - Pipeline execution completed successfully.\n"
     ]
    },
    {
     "data": {
      "text/plain": [
       "{}"
      ]
     },
     "execution_count": 2,
     "metadata": {},
     "output_type": "execute_result"
    }
   ],
   "source": [
    "session.run()"
   ]
  },
  {
   "cell_type": "code",
   "execution_count": 3,
   "id": "643ef5d6-83b4-4749-af44-ab5a0cf61d17",
   "metadata": {},
   "outputs": [
    {
     "data": {
      "text/plain": [
       "<kedro.io.data_catalog.DataCatalog at 0x14c7e9b20>"
      ]
     },
     "execution_count": 3,
     "metadata": {},
     "output_type": "execute_result"
    }
   ],
   "source": [
    "context.catalog"
   ]
  },
  {
   "cell_type": "code",
   "execution_count": 4,
   "id": "a7521b0a-58de-4065-947f-7d6a9889f5f0",
   "metadata": {},
   "outputs": [
    {
     "name": "stderr",
     "output_type": "stream",
     "text": [
      "/Users/adityan/Work/kedro-spaceflights-tutorial/spaceflights-venv/lib/python3.8/site-packages/kedro/framework/context/context.py:59: DeprecationWarning: Accessing pipeline via the context will be deprecated in Kedro 0.18.0.\n",
      "  warn(\n"
     ]
    },
    {
     "data": {
      "text/plain": [
       "Pipeline([\n",
       "Node(preprocess_shuttles, 'shuttles', 'preprocessed_shuttles', 'preprocess_shuttles_node'),\n",
       "Node(preprocess_companies, 'companies', 'preprocessed_companies', 'preprocess_companies_node'),\n",
       "Node(create_model_input_table, ['preprocessed_shuttles', 'preprocessed_companies', 'reviews'], 'model_input_table', 'create_model_input_table_node'),\n",
       "Node(split_data, ['model_input_table', 'parameters'], ['X_train', 'X_test', 'y_train', 'y_test'], 'split_data_node'),\n",
       "Node(train_model_RF, ['X_train', 'y_train'], 'RF_regressor', 'train_model_RF_node'),\n",
       "Node(train_model, ['X_train', 'y_train'], 'regressor', 'train_model_node'),\n",
       "Node(evaluate_model, ['regressor', 'X_test', 'y_test'], None, 'evaluate_model_node'),\n",
       "Node(evaluate_model_RF, ['RF_regressor', 'X_test', 'y_test'], None, 'evaluate_model_RF_node')\n",
       "])"
      ]
     },
     "execution_count": 4,
     "metadata": {},
     "output_type": "execute_result"
    }
   ],
   "source": [
    "context.pipeline"
   ]
  },
  {
   "cell_type": "code",
   "execution_count": 5,
   "id": "67bc2089-1005-4c16-9258-e7bc3aeaa114",
   "metadata": {},
   "outputs": [
    {
     "data": {
      "text/plain": [
       "PosixPath('/Users/adityan/Work/kedro-spaceflights-tutorial/spaceflightsRepo')"
      ]
     },
     "execution_count": 5,
     "metadata": {},
     "output_type": "execute_result"
    }
   ],
   "source": [
    "context.project_path"
   ]
  },
  {
   "cell_type": "code",
   "execution_count": 6,
   "id": "1655bf7d-75c7-44fb-8df0-018aa51f7c7c",
   "metadata": {},
   "outputs": [
    {
     "data": {
      "text/plain": [
       "{'test_size': 0.2,\n",
       " 'random_state': 3,\n",
       " 'features': ['engines',\n",
       "  'passenger_capacity',\n",
       "  'crew',\n",
       "  'd_check_complete',\n",
       "  'moon_clearance_complete',\n",
       "  'iata_approved',\n",
       "  'company_rating',\n",
       "  'review_scores_rating']}"
      ]
     },
     "execution_count": 6,
     "metadata": {},
     "output_type": "execute_result"
    }
   ],
   "source": [
    "context.params"
   ]
  },
  {
   "cell_type": "code",
   "execution_count": 7,
   "id": "345166ea-4aa8-4114-8038-b3c50bb55865",
   "metadata": {},
   "outputs": [
    {
     "name": "stdout",
     "output_type": "stream",
     "text": [
      "2021-10-14 12:28:58,073 - kedro.io.data_catalog - INFO - Loading data from `companies` (CSVDataSet)...\n",
      "2021-10-14 12:28:58,108 - kedro.io.data_catalog - INFO - Loading data from `reviews` (CSVDataSet)...\n",
      "2021-10-14 12:28:58,166 - kedro.io.data_catalog - INFO - Loading data from `shuttles` (ExcelDataSet)...\n"
     ]
    },
    {
     "name": "stderr",
     "output_type": "stream",
     "text": [
      "/Users/adityan/Work/kedro-spaceflights-tutorial/spaceflights-venv/lib/python3.8/site-packages/kedro/extras/datasets/pandas/excel_dataset.py:168: FutureWarning: Your version of xlrd is 1.2.0. In xlrd >= 2.0, only the xls format is supported. Install openpyxl instead.\n",
      "  return pd.read_excel(fs_file, **self._load_args)\n",
      "/Users/adityan/Work/kedro-spaceflights-tutorial/spaceflights-venv/lib/python3.8/site-packages/xlrd/xlsx.py:266: DeprecationWarning: This method will be removed in future versions.  Use 'tree.iter()' or 'list(tree.iter())' instead.\n",
      "  for elem in self.tree.iter() if Element_has_iter else self.tree.getiterator():\n",
      "/Users/adityan/Work/kedro-spaceflights-tutorial/spaceflights-venv/lib/python3.8/site-packages/xlrd/xlsx.py:312: DeprecationWarning: This method will be removed in future versions.  Use 'tree.iter()' or 'list(tree.iter())' instead.\n",
      "  for elem in self.tree.iter() if Element_has_iter else self.tree.getiterator():\n"
     ]
    }
   ],
   "source": [
    "companies_df = catalog.load(\"companies\")\n",
    "reviews_df = catalog.load(\"reviews\")\n",
    "shuttles_df = catalog.load(\"shuttles\")"
   ]
  },
  {
   "cell_type": "code",
   "execution_count": 8,
   "id": "b38c26e3-abaf-498b-987e-ebd4287be9ec",
   "metadata": {},
   "outputs": [
    {
     "name": "stdout",
     "output_type": "stream",
     "text": [
      "<class 'pandas.core.frame.DataFrame'>\n",
      "RangeIndex: 77096 entries, 0 to 77095\n",
      "Data columns (total 5 columns):\n",
      " #   Column             Non-Null Count  Dtype  \n",
      "---  ------             --------------  -----  \n",
      " 0   id                 77096 non-null  int64  \n",
      " 1   company_rating     47187 non-null  object \n",
      " 2   company_location   57966 non-null  object \n",
      " 3   total_fleet_count  77089 non-null  float64\n",
      " 4   iata_approved      77089 non-null  object \n",
      "dtypes: float64(1), int64(1), object(3)\n",
      "memory usage: 2.9+ MB\n"
     ]
    }
   ],
   "source": [
    "companies_df.info()"
   ]
  },
  {
   "cell_type": "code",
   "execution_count": 9,
   "id": "4cca5631-1df4-4e6e-bd0d-91394f7d3baa",
   "metadata": {},
   "outputs": [
    {
     "data": {
      "text/plain": [
       "id                       0\n",
       "company_rating       29909\n",
       "company_location     19130\n",
       "total_fleet_count        7\n",
       "iata_approved            7\n",
       "dtype: int64"
      ]
     },
     "execution_count": 9,
     "metadata": {},
     "output_type": "execute_result"
    }
   ],
   "source": [
    "companies_df.isnull().sum()"
   ]
  },
  {
   "cell_type": "code",
   "execution_count": 10,
   "id": "2a096a03-db16-48fa-a6c8-f0a6caf0e5d4",
   "metadata": {},
   "outputs": [
    {
     "name": "stdout",
     "output_type": "stream",
     "text": [
      "<class 'pandas.core.frame.DataFrame'>\n",
      "RangeIndex: 77096 entries, 0 to 77095\n",
      "Data columns (total 10 columns):\n",
      " #   Column                   Non-Null Count  Dtype  \n",
      "---  ------                   --------------  -----  \n",
      " 0   shuttle_id               77096 non-null  int64  \n",
      " 1   review_scores_rating     55956 non-null  float64\n",
      " 2   review_scores_comfort    55896 non-null  float64\n",
      " 3   review_scores_amenities  55909 non-null  float64\n",
      " 4   review_scores_trip       55833 non-null  float64\n",
      " 5   review_scores_crew       55902 non-null  float64\n",
      " 6   review_scores_location   55831 non-null  float64\n",
      " 7   review_scores_price      55828 non-null  float64\n",
      " 8   number_of_reviews        77096 non-null  int64  \n",
      " 9   reviews_per_month        57553 non-null  float64\n",
      "dtypes: float64(8), int64(2)\n",
      "memory usage: 5.9 MB\n"
     ]
    }
   ],
   "source": [
    "reviews_df.info()"
   ]
  },
  {
   "cell_type": "code",
   "execution_count": 11,
   "id": "212ca5a9-6d18-484a-acb9-97b8290a03e6",
   "metadata": {},
   "outputs": [
    {
     "data": {
      "text/plain": [
       "shuttle_id                     0\n",
       "review_scores_rating       21140\n",
       "review_scores_comfort      21200\n",
       "review_scores_amenities    21187\n",
       "review_scores_trip         21263\n",
       "review_scores_crew         21194\n",
       "review_scores_location     21265\n",
       "review_scores_price        21268\n",
       "number_of_reviews              0\n",
       "reviews_per_month          19543\n",
       "dtype: int64"
      ]
     },
     "execution_count": 11,
     "metadata": {},
     "output_type": "execute_result"
    }
   ],
   "source": [
    "reviews_df.isnull().sum()"
   ]
  },
  {
   "cell_type": "code",
   "execution_count": 12,
   "id": "74478a03-245f-44a4-baec-db782e72db24",
   "metadata": {},
   "outputs": [
    {
     "name": "stdout",
     "output_type": "stream",
     "text": [
      "<class 'pandas.core.frame.DataFrame'>\n",
      "RangeIndex: 77096 entries, 0 to 77095\n",
      "Data columns (total 13 columns):\n",
      " #   Column                   Non-Null Count  Dtype  \n",
      "---  ------                   --------------  -----  \n",
      " 0   id                       77096 non-null  int64  \n",
      " 1   shuttle_location         77096 non-null  object \n",
      " 2   shuttle_type             77096 non-null  object \n",
      " 3   engine_type              77096 non-null  object \n",
      " 4   engine_vendor            77096 non-null  object \n",
      " 5   engines                  77057 non-null  float64\n",
      " 6   passenger_capacity       77096 non-null  int64  \n",
      " 7   cancellation_policy      77096 non-null  object \n",
      " 8   crew                     76947 non-null  float64\n",
      " 9   d_check_complete         77096 non-null  object \n",
      " 10  moon_clearance_complete  77096 non-null  object \n",
      " 11  price                    77096 non-null  object \n",
      " 12  company_id               77096 non-null  int64  \n",
      "dtypes: float64(2), int64(3), object(8)\n",
      "memory usage: 7.6+ MB\n"
     ]
    }
   ],
   "source": [
    "shuttles_df.info()"
   ]
  },
  {
   "cell_type": "code",
   "execution_count": 13,
   "id": "955fe33d-8da8-44e9-a990-c223dfbba6e3",
   "metadata": {},
   "outputs": [
    {
     "data": {
      "text/plain": [
       "id                           0\n",
       "shuttle_location             0\n",
       "shuttle_type                 0\n",
       "engine_type                  0\n",
       "engine_vendor                0\n",
       "engines                     39\n",
       "passenger_capacity           0\n",
       "cancellation_policy          0\n",
       "crew                       149\n",
       "d_check_complete             0\n",
       "moon_clearance_complete      0\n",
       "price                        0\n",
       "company_id                   0\n",
       "dtype: int64"
      ]
     },
     "execution_count": 13,
     "metadata": {},
     "output_type": "execute_result"
    }
   ],
   "source": [
    "shuttles_df.isnull().sum()"
   ]
  },
  {
   "cell_type": "code",
   "execution_count": 14,
   "id": "78232dfa-8149-4c29-94ac-83737e7783ae",
   "metadata": {},
   "outputs": [
    {
     "data": {
      "text/html": [
       "<div>\n",
       "<style scoped>\n",
       "    .dataframe tbody tr th:only-of-type {\n",
       "        vertical-align: middle;\n",
       "    }\n",
       "\n",
       "    .dataframe tbody tr th {\n",
       "        vertical-align: top;\n",
       "    }\n",
       "\n",
       "    .dataframe thead th {\n",
       "        text-align: right;\n",
       "    }\n",
       "</style>\n",
       "<table border=\"1\" class=\"dataframe\">\n",
       "  <thead>\n",
       "    <tr style=\"text-align: right;\">\n",
       "      <th></th>\n",
       "      <th>id</th>\n",
       "      <th>company_rating</th>\n",
       "      <th>company_location</th>\n",
       "      <th>total_fleet_count</th>\n",
       "      <th>iata_approved</th>\n",
       "    </tr>\n",
       "  </thead>\n",
       "  <tbody>\n",
       "    <tr>\n",
       "      <th>0</th>\n",
       "      <td>35029</td>\n",
       "      <td>100%</td>\n",
       "      <td>Niue</td>\n",
       "      <td>4.0</td>\n",
       "      <td>f</td>\n",
       "    </tr>\n",
       "    <tr>\n",
       "      <th>1</th>\n",
       "      <td>30292</td>\n",
       "      <td>67%</td>\n",
       "      <td>Anguilla</td>\n",
       "      <td>6.0</td>\n",
       "      <td>f</td>\n",
       "    </tr>\n",
       "    <tr>\n",
       "      <th>2</th>\n",
       "      <td>19032</td>\n",
       "      <td>67%</td>\n",
       "      <td>Russian Federation</td>\n",
       "      <td>4.0</td>\n",
       "      <td>f</td>\n",
       "    </tr>\n",
       "    <tr>\n",
       "      <th>3</th>\n",
       "      <td>8238</td>\n",
       "      <td>91%</td>\n",
       "      <td>Barbados</td>\n",
       "      <td>15.0</td>\n",
       "      <td>t</td>\n",
       "    </tr>\n",
       "    <tr>\n",
       "      <th>4</th>\n",
       "      <td>30342</td>\n",
       "      <td>NaN</td>\n",
       "      <td>Sao Tome and Principe</td>\n",
       "      <td>2.0</td>\n",
       "      <td>t</td>\n",
       "    </tr>\n",
       "  </tbody>\n",
       "</table>\n",
       "</div>"
      ],
      "text/plain": [
       "      id company_rating       company_location  total_fleet_count  \\\n",
       "0  35029           100%                   Niue                4.0   \n",
       "1  30292            67%               Anguilla                6.0   \n",
       "2  19032            67%     Russian Federation                4.0   \n",
       "3   8238            91%               Barbados               15.0   \n",
       "4  30342            NaN  Sao Tome and Principe                2.0   \n",
       "\n",
       "  iata_approved  \n",
       "0             f  \n",
       "1             f  \n",
       "2             f  \n",
       "3             t  \n",
       "4             t  "
      ]
     },
     "execution_count": 14,
     "metadata": {},
     "output_type": "execute_result"
    }
   ],
   "source": [
    "companies_df.head()"
   ]
  },
  {
   "cell_type": "code",
   "execution_count": 15,
   "id": "5675c53b-419e-4364-9e15-03f6b565297d",
   "metadata": {},
   "outputs": [
    {
     "name": "stdout",
     "output_type": "stream",
     "text": [
      "{'test_size': 0.2, 'random_state': 3, 'features': ['engines', 'passenger_capacity', 'crew', 'd_check_complete', 'moon_clearance_complete', 'iata_approved', 'company_rating', 'review_scores_rating']}\n",
      "test_size 0.2\n",
      "random_state 3\n",
      "features ['engines', 'passenger_capacity', 'crew', 'd_check_complete', 'moon_clearance_complete', 'iata_approved', 'company_rating', 'review_scores_rating']\n"
     ]
    }
   ],
   "source": [
    "params_dict = context.params \n",
    "print(params_dict)\n",
    "for k,v in params_dict.items():\n",
    "    print(k,v)"
   ]
  },
  {
   "cell_type": "code",
   "execution_count": 15,
   "id": "f1519b35-e285-423f-891e-8f7c856373b9",
   "metadata": {},
   "outputs": [
    {
     "name": "stdout",
     "output_type": "stream",
     "text": [
      "2021-10-14 12:29:28,897 - kedro.io.data_catalog - INFO - Loading data from `model_input_table` (CSVDataSet)...\n"
     ]
    }
   ],
   "source": [
    "# I tried running the pipeline 'dp' to capture the output from the final pipeline, but it session.run() doesnt return output\n",
    "#model_input_table = session.run(pipeline_name='dp')\n",
    "# I tried running the specific nodes to capture the output, but again no output captured\n",
    "#model_input_table = session.run(node_names=['preprocess_companies_node','preprocess_shuttles_node','create_model_input_table_node'])\n",
    "#model_input_table = context.run(node_names=['preprocess_companies_node'])\n",
    "\n",
    "#To access the intermediate dataset, we can directly use catalog.load(\"<filename>\") -- just like we did for raw inputfiles. \n",
    "#We dont need to explicitly run the pipeline or nodes to generate output \n",
    "\n",
    "model_input_table = catalog.load(\"model_input_table\")"
   ]
  },
  {
   "cell_type": "code",
   "execution_count": 17,
   "id": "58e6ba7f-5e0e-4fe4-bba4-768f0fb3b357",
   "metadata": {},
   "outputs": [
    {
     "data": {
      "text/html": [
       "<div>\n",
       "<style scoped>\n",
       "    .dataframe tbody tr th:only-of-type {\n",
       "        vertical-align: middle;\n",
       "    }\n",
       "\n",
       "    .dataframe tbody tr th {\n",
       "        vertical-align: top;\n",
       "    }\n",
       "\n",
       "    .dataframe thead th {\n",
       "        text-align: right;\n",
       "    }\n",
       "</style>\n",
       "<table border=\"1\" class=\"dataframe\">\n",
       "  <thead>\n",
       "    <tr style=\"text-align: right;\">\n",
       "      <th></th>\n",
       "      <th>id_x</th>\n",
       "      <th>shuttle_location</th>\n",
       "      <th>shuttle_type</th>\n",
       "      <th>engine_type</th>\n",
       "      <th>engine_vendor</th>\n",
       "      <th>engines</th>\n",
       "      <th>passenger_capacity</th>\n",
       "      <th>cancellation_policy</th>\n",
       "      <th>crew</th>\n",
       "      <th>d_check_complete</th>\n",
       "      <th>...</th>\n",
       "      <th>review_scores_crew</th>\n",
       "      <th>review_scores_location</th>\n",
       "      <th>review_scores_price</th>\n",
       "      <th>number_of_reviews</th>\n",
       "      <th>reviews_per_month</th>\n",
       "      <th>id_y</th>\n",
       "      <th>company_rating</th>\n",
       "      <th>company_location</th>\n",
       "      <th>total_fleet_count</th>\n",
       "      <th>iata_approved</th>\n",
       "    </tr>\n",
       "  </thead>\n",
       "  <tbody>\n",
       "    <tr>\n",
       "      <th>0</th>\n",
       "      <td>63561</td>\n",
       "      <td>Niue</td>\n",
       "      <td>Type V5</td>\n",
       "      <td>Quantum</td>\n",
       "      <td>ThetaBase Services</td>\n",
       "      <td>1.0</td>\n",
       "      <td>2</td>\n",
       "      <td>strict</td>\n",
       "      <td>1.0</td>\n",
       "      <td>False</td>\n",
       "      <td>...</td>\n",
       "      <td>10.0</td>\n",
       "      <td>9.0</td>\n",
       "      <td>10.0</td>\n",
       "      <td>133</td>\n",
       "      <td>1.65</td>\n",
       "      <td>35029</td>\n",
       "      <td>1.0</td>\n",
       "      <td>Niue</td>\n",
       "      <td>4.0</td>\n",
       "      <td>False</td>\n",
       "    </tr>\n",
       "    <tr>\n",
       "      <th>1</th>\n",
       "      <td>63561</td>\n",
       "      <td>Niue</td>\n",
       "      <td>Type V5</td>\n",
       "      <td>Quantum</td>\n",
       "      <td>ThetaBase Services</td>\n",
       "      <td>1.0</td>\n",
       "      <td>2</td>\n",
       "      <td>strict</td>\n",
       "      <td>1.0</td>\n",
       "      <td>False</td>\n",
       "      <td>...</td>\n",
       "      <td>10.0</td>\n",
       "      <td>9.0</td>\n",
       "      <td>10.0</td>\n",
       "      <td>133</td>\n",
       "      <td>1.65</td>\n",
       "      <td>35029</td>\n",
       "      <td>1.0</td>\n",
       "      <td>Niue</td>\n",
       "      <td>4.0</td>\n",
       "      <td>False</td>\n",
       "    </tr>\n",
       "    <tr>\n",
       "      <th>2</th>\n",
       "      <td>63561</td>\n",
       "      <td>Niue</td>\n",
       "      <td>Type V5</td>\n",
       "      <td>Quantum</td>\n",
       "      <td>ThetaBase Services</td>\n",
       "      <td>1.0</td>\n",
       "      <td>2</td>\n",
       "      <td>strict</td>\n",
       "      <td>1.0</td>\n",
       "      <td>False</td>\n",
       "      <td>...</td>\n",
       "      <td>10.0</td>\n",
       "      <td>9.0</td>\n",
       "      <td>10.0</td>\n",
       "      <td>133</td>\n",
       "      <td>1.65</td>\n",
       "      <td>35029</td>\n",
       "      <td>1.0</td>\n",
       "      <td>Niue</td>\n",
       "      <td>4.0</td>\n",
       "      <td>False</td>\n",
       "    </tr>\n",
       "    <tr>\n",
       "      <th>3</th>\n",
       "      <td>63561</td>\n",
       "      <td>Niue</td>\n",
       "      <td>Type V5</td>\n",
       "      <td>Quantum</td>\n",
       "      <td>ThetaBase Services</td>\n",
       "      <td>1.0</td>\n",
       "      <td>2</td>\n",
       "      <td>strict</td>\n",
       "      <td>1.0</td>\n",
       "      <td>False</td>\n",
       "      <td>...</td>\n",
       "      <td>10.0</td>\n",
       "      <td>9.0</td>\n",
       "      <td>10.0</td>\n",
       "      <td>133</td>\n",
       "      <td>1.65</td>\n",
       "      <td>35029</td>\n",
       "      <td>1.0</td>\n",
       "      <td>Niue</td>\n",
       "      <td>4.0</td>\n",
       "      <td>False</td>\n",
       "    </tr>\n",
       "    <tr>\n",
       "      <th>4</th>\n",
       "      <td>53260</td>\n",
       "      <td>Niue</td>\n",
       "      <td>Type V5</td>\n",
       "      <td>Quantum</td>\n",
       "      <td>Banks, Wood and Phillips</td>\n",
       "      <td>1.0</td>\n",
       "      <td>2</td>\n",
       "      <td>strict</td>\n",
       "      <td>1.0</td>\n",
       "      <td>False</td>\n",
       "      <td>...</td>\n",
       "      <td>10.0</td>\n",
       "      <td>9.0</td>\n",
       "      <td>10.0</td>\n",
       "      <td>37</td>\n",
       "      <td>0.48</td>\n",
       "      <td>35029</td>\n",
       "      <td>1.0</td>\n",
       "      <td>Niue</td>\n",
       "      <td>4.0</td>\n",
       "      <td>False</td>\n",
       "    </tr>\n",
       "  </tbody>\n",
       "</table>\n",
       "<p>5 rows × 28 columns</p>\n",
       "</div>"
      ],
      "text/plain": [
       "    id_x shuttle_location shuttle_type engine_type             engine_vendor  \\\n",
       "0  63561             Niue      Type V5     Quantum        ThetaBase Services   \n",
       "1  63561             Niue      Type V5     Quantum        ThetaBase Services   \n",
       "2  63561             Niue      Type V5     Quantum        ThetaBase Services   \n",
       "3  63561             Niue      Type V5     Quantum        ThetaBase Services   \n",
       "4  53260             Niue      Type V5     Quantum  Banks, Wood and Phillips   \n",
       "\n",
       "   engines  passenger_capacity cancellation_policy  crew  d_check_complete  \\\n",
       "0      1.0                   2              strict   1.0             False   \n",
       "1      1.0                   2              strict   1.0             False   \n",
       "2      1.0                   2              strict   1.0             False   \n",
       "3      1.0                   2              strict   1.0             False   \n",
       "4      1.0                   2              strict   1.0             False   \n",
       "\n",
       "   ...  review_scores_crew  review_scores_location  review_scores_price  \\\n",
       "0  ...                10.0                     9.0                 10.0   \n",
       "1  ...                10.0                     9.0                 10.0   \n",
       "2  ...                10.0                     9.0                 10.0   \n",
       "3  ...                10.0                     9.0                 10.0   \n",
       "4  ...                10.0                     9.0                 10.0   \n",
       "\n",
       "   number_of_reviews  reviews_per_month   id_y  company_rating  \\\n",
       "0                133               1.65  35029             1.0   \n",
       "1                133               1.65  35029             1.0   \n",
       "2                133               1.65  35029             1.0   \n",
       "3                133               1.65  35029             1.0   \n",
       "4                 37               0.48  35029             1.0   \n",
       "\n",
       "   company_location  total_fleet_count  iata_approved  \n",
       "0              Niue                4.0          False  \n",
       "1              Niue                4.0          False  \n",
       "2              Niue                4.0          False  \n",
       "3              Niue                4.0          False  \n",
       "4              Niue                4.0          False  \n",
       "\n",
       "[5 rows x 28 columns]"
      ]
     },
     "execution_count": 17,
     "metadata": {},
     "output_type": "execute_result"
    }
   ],
   "source": [
    "model_input_table.head()"
   ]
  },
  {
   "cell_type": "code",
   "execution_count": 18,
   "id": "ae787add-eab5-4f3b-9c54-d2dcf0239ca8",
   "metadata": {},
   "outputs": [
    {
     "name": "stdout",
     "output_type": "stream",
     "text": [
      "<class 'pandas.core.frame.DataFrame'>\n",
      "RangeIndex: 759609 entries, 0 to 759608\n",
      "Data columns (total 28 columns):\n",
      " #   Column                   Non-Null Count   Dtype  \n",
      "---  ------                   --------------   -----  \n",
      " 0   id_x                     759609 non-null  int64  \n",
      " 1   shuttle_location         759609 non-null  object \n",
      " 2   shuttle_type             759609 non-null  object \n",
      " 3   engine_type              759609 non-null  object \n",
      " 4   engine_vendor            759609 non-null  object \n",
      " 5   engines                  759609 non-null  float64\n",
      " 6   passenger_capacity       759609 non-null  int64  \n",
      " 7   cancellation_policy      759609 non-null  object \n",
      " 8   crew                     759609 non-null  float64\n",
      " 9   d_check_complete         759609 non-null  bool   \n",
      " 10  moon_clearance_complete  759609 non-null  bool   \n",
      " 11  price                    759609 non-null  float64\n",
      " 12  company_id               759609 non-null  int64  \n",
      " 13  shuttle_id               759609 non-null  int64  \n",
      " 14  review_scores_rating     759609 non-null  float64\n",
      " 15  review_scores_comfort    759609 non-null  float64\n",
      " 16  review_scores_amenities  759609 non-null  float64\n",
      " 17  review_scores_trip       759609 non-null  float64\n",
      " 18  review_scores_crew       759609 non-null  float64\n",
      " 19  review_scores_location   759609 non-null  float64\n",
      " 20  review_scores_price      759609 non-null  float64\n",
      " 21  number_of_reviews        759609 non-null  int64  \n",
      " 22  reviews_per_month        759609 non-null  float64\n",
      " 23  id_y                     759609 non-null  int64  \n",
      " 24  company_rating           759609 non-null  float64\n",
      " 25  company_location         759609 non-null  object \n",
      " 26  total_fleet_count        759609 non-null  float64\n",
      " 27  iata_approved            759609 non-null  bool   \n",
      "dtypes: bool(3), float64(13), int64(6), object(6)\n",
      "memory usage: 147.1+ MB\n"
     ]
    }
   ],
   "source": [
    "model_input_table.info()"
   ]
  },
  {
   "cell_type": "code",
   "execution_count": 19,
   "id": "c41ebb32-3975-4826-a13b-82600ba55272",
   "metadata": {},
   "outputs": [],
   "source": [
    "y = model_input_table.price\n",
    "X = model_input_table.drop(['price','id_x','company_id','shuttle_id','id_y'],axis=1)"
   ]
  },
  {
   "cell_type": "code",
   "execution_count": 20,
   "id": "aa8ba0c9-fd85-4d00-a8f1-1773dd7e7f7b",
   "metadata": {},
   "outputs": [
    {
     "name": "stdout",
     "output_type": "stream",
     "text": [
      "<class 'pandas.core.frame.DataFrame'>\n",
      "RangeIndex: 759609 entries, 0 to 759608\n",
      "Data columns (total 23 columns):\n",
      " #   Column                   Non-Null Count   Dtype  \n",
      "---  ------                   --------------   -----  \n",
      " 0   shuttle_location         759609 non-null  object \n",
      " 1   shuttle_type             759609 non-null  object \n",
      " 2   engine_type              759609 non-null  object \n",
      " 3   engine_vendor            759609 non-null  object \n",
      " 4   engines                  759609 non-null  float64\n",
      " 5   passenger_capacity       759609 non-null  int64  \n",
      " 6   cancellation_policy      759609 non-null  object \n",
      " 7   crew                     759609 non-null  float64\n",
      " 8   d_check_complete         759609 non-null  bool   \n",
      " 9   moon_clearance_complete  759609 non-null  bool   \n",
      " 10  review_scores_rating     759609 non-null  float64\n",
      " 11  review_scores_comfort    759609 non-null  float64\n",
      " 12  review_scores_amenities  759609 non-null  float64\n",
      " 13  review_scores_trip       759609 non-null  float64\n",
      " 14  review_scores_crew       759609 non-null  float64\n",
      " 15  review_scores_location   759609 non-null  float64\n",
      " 16  review_scores_price      759609 non-null  float64\n",
      " 17  number_of_reviews        759609 non-null  int64  \n",
      " 18  reviews_per_month        759609 non-null  float64\n",
      " 19  company_rating           759609 non-null  float64\n",
      " 20  company_location         759609 non-null  object \n",
      " 21  total_fleet_count        759609 non-null  float64\n",
      " 22  iata_approved            759609 non-null  bool   \n",
      "dtypes: bool(3), float64(12), int64(2), object(6)\n",
      "memory usage: 118.1+ MB\n"
     ]
    }
   ],
   "source": [
    "X.info()"
   ]
  },
  {
   "cell_type": "code",
   "execution_count": 21,
   "id": "8ad4821d-fc67-419c-ba5f-d46b466f6d76",
   "metadata": {},
   "outputs": [
    {
     "name": "stdout",
     "output_type": "stream",
     "text": [
      "['d_check_complete', 'moon_clearance_complete', 'iata_approved']\n"
     ]
    }
   ],
   "source": [
    "#Convert Bool values to 0-1\n",
    "def bool_to_int(df):\n",
    "    bool_col = [col for col in df.columns if df[col].dtypes == 'bool']\n",
    "    print(bool_col)\n",
    "    for col in bool_col:\n",
    "        df[col] = df[col].astype('int64')\n",
    "    return df\n",
    "\n",
    "X = bool_to_int(X)"
   ]
  },
  {
   "cell_type": "code",
   "execution_count": 22,
   "id": "999ff405-8e08-4ea1-8c82-fc15a2d4f8c9",
   "metadata": {},
   "outputs": [
    {
     "name": "stdout",
     "output_type": "stream",
     "text": [
      "Categorical columns : ['engine_type', 'engine_vendor', 'cancellation_policy']\n",
      "Numerical columns   : ['engines', 'passenger_capacity', 'crew', 'd_check_complete', 'moon_clearance_complete', 'review_scores_rating', 'review_scores_comfort', 'review_scores_amenities', 'review_scores_trip', 'review_scores_crew', 'review_scores_location', 'review_scores_price', 'number_of_reviews', 'reviews_per_month', 'company_rating', 'total_fleet_count', 'iata_approved']\n"
     ]
    }
   ],
   "source": [
    "cat_cols = [col for col in X.columns if X[col].dtypes == 'object' and X[col].nunique() <= 10]\n",
    "num_cols = [col for col in X.columns if X[col].dtypes in ('int64','float64')]\n",
    "print(\"Categorical columns :\",cat_cols)\n",
    "print(\"Numerical columns   :\",num_cols)"
   ]
  },
  {
   "cell_type": "code",
   "execution_count": 23,
   "id": "68ba9ffc-bb38-4857-9dfc-6a994fefeca9",
   "metadata": {},
   "outputs": [
    {
     "data": {
      "text/plain": [
       "(759609, 23)"
      ]
     },
     "execution_count": 23,
     "metadata": {},
     "output_type": "execute_result"
    }
   ],
   "source": [
    "X.shape"
   ]
  },
  {
   "cell_type": "code",
   "execution_count": 24,
   "id": "4b527ba8-2b36-4a75-acbf-3e76e772c573",
   "metadata": {},
   "outputs": [
    {
     "data": {
      "text/plain": [
       "Barbados                     120776\n",
       "Micronesia                   109398\n",
       "Malta                        106708\n",
       "Nicaragua                     92759\n",
       "Rwanda                        69383\n",
       "Russian Federation            58490\n",
       "Sao Tome and Principe         50293\n",
       "United Kingdom                28488\n",
       "Niue                          26269\n",
       "Bouvet Island (Bouvetoya)     23346\n",
       "Wallis and Futuna             14835\n",
       "Indonesia                     10169\n",
       "Kiribati                       9473\n",
       "Anguilla                       7437\n",
       "Uzbekistan                     6505\n",
       "Gambia                         5454\n",
       "Guinea                         4346\n",
       "Costa Rica                     4057\n",
       "Faroe Islands                  3973\n",
       "Estonia                        2380\n",
       "Isle of Man                    1142\n",
       "Switzerland                     892\n",
       "Bosnia and Herzegovina          792\n",
       "Marshall Islands                525\n",
       "Brazil                          514\n",
       "Kenya                           458\n",
       "Pakistan                        221\n",
       "El Salvador                     185\n",
       "Mexico                          172\n",
       "Chad                            169\n",
       "Name: shuttle_location, dtype: int64"
      ]
     },
     "execution_count": 24,
     "metadata": {},
     "output_type": "execute_result"
    }
   ],
   "source": [
    "X['shuttle_location'].value_counts()"
   ]
  },
  {
   "cell_type": "code",
   "execution_count": 25,
   "id": "63e8d463-f191-4f37-9809-30eeea8937eb",
   "metadata": {},
   "outputs": [
    {
     "data": {
      "text/plain": [
       "Type V5    504840\n",
       "Type F5    187107\n",
       "Type G0     48629\n",
       "Type V2      8887\n",
       "Type Z6      2779\n",
       "Type O3      1876\n",
       "Type V7      1500\n",
       "Type N0      1323\n",
       "Type X3       547\n",
       "Type E3       474\n",
       "Type F1       348\n",
       "Type W5       284\n",
       "Type S7       242\n",
       "Type A7       238\n",
       "Type U1       109\n",
       "Type L7       108\n",
       "Type Y7        67\n",
       "Type Z1        53\n",
       "Type Y4        31\n",
       "Type B7        30\n",
       "Type I5        28\n",
       "Type T7        27\n",
       "Type D4        21\n",
       "Type P6        19\n",
       "Type I7        13\n",
       "Type L0        11\n",
       "Type O0         8\n",
       "Type D2         4\n",
       "Type W4         3\n",
       "Type K2         1\n",
       "Type F6         1\n",
       "Type C2         1\n",
       "Name: shuttle_type, dtype: int64"
      ]
     },
     "execution_count": 25,
     "metadata": {},
     "output_type": "execute_result"
    }
   ],
   "source": [
    "X['shuttle_type'].value_counts()"
   ]
  },
  {
   "cell_type": "code",
   "execution_count": 26,
   "id": "2b7c73ae-bd3e-4d1b-85a2-f8dc0936c335",
   "metadata": {},
   "outputs": [
    {
     "data": {
      "text/plain": [
       "Plasma     669699\n",
       "Quantum     83227\n",
       "Nuclear      6683\n",
       "Name: engine_type, dtype: int64"
      ]
     },
     "execution_count": 26,
     "metadata": {},
     "output_type": "execute_result"
    }
   ],
   "source": [
    "X['engine_type'].value_counts()"
   ]
  },
  {
   "cell_type": "code",
   "execution_count": 27,
   "id": "86e6628f-bf75-43db-b3cd-50b1cc4151c5",
   "metadata": {},
   "outputs": [
    {
     "data": {
      "text/plain": [
       "ThetaBase Services                  758528\n",
       "Banks, Wood and Phillips               797\n",
       "Warwick Technology Multinational       168\n",
       "SIT Technology Unlimited                81\n",
       "MCW Global                              35\n",
       "Name: engine_vendor, dtype: int64"
      ]
     },
     "execution_count": 27,
     "metadata": {},
     "output_type": "execute_result"
    }
   ],
   "source": [
    "X['engine_vendor'].value_counts()"
   ]
  },
  {
   "cell_type": "code",
   "execution_count": 28,
   "id": "7341bddc-8cd3-4bd4-b24a-b68eda3842eb",
   "metadata": {},
   "outputs": [
    {
     "data": {
      "text/plain": [
       "strict      673660\n",
       "moderate     55883\n",
       "flexible     30066\n",
       "Name: cancellation_policy, dtype: int64"
      ]
     },
     "execution_count": 28,
     "metadata": {},
     "output_type": "execute_result"
    }
   ],
   "source": [
    "X['cancellation_policy'].value_counts()"
   ]
  },
  {
   "cell_type": "code",
   "execution_count": 29,
   "id": "9d9c5b85-2c80-4c55-80e4-b6c3587c66b8",
   "metadata": {},
   "outputs": [],
   "source": [
    "X = X[cat_cols + num_cols].copy()"
   ]
  },
  {
   "cell_type": "code",
   "execution_count": 30,
   "id": "1e40959e-db3b-4091-b229-7e12a525ede2",
   "metadata": {},
   "outputs": [
    {
     "data": {
      "text/plain": [
       "(759609, 20)"
      ]
     },
     "execution_count": 30,
     "metadata": {},
     "output_type": "execute_result"
    }
   ],
   "source": [
    "X.shape"
   ]
  },
  {
   "cell_type": "code",
   "execution_count": 31,
   "id": "c9ee48f0-acb9-4939-a3f0-ceef625851e5",
   "metadata": {},
   "outputs": [],
   "source": [
    "from sklearn.pipeline import Pipeline\n",
    "from sklearn.impute import SimpleImputer\n",
    "from sklearn.preprocessing import StandardScaler, OneHotEncoder, LabelEncoder\n",
    "from sklearn.compose import ColumnTransformer\n",
    "from sklearn.model_selection import train_test_split\n",
    "from sklearn.ensemble import RandomForestRegressor\n",
    "from sklearn.metrics import r2_score"
   ]
  },
  {
   "cell_type": "code",
   "execution_count": 32,
   "id": "52e3b6b3-e850-4489-a225-1d8c6ef5039e",
   "metadata": {},
   "outputs": [
    {
     "name": "stdout",
     "output_type": "stream",
     "text": [
      "X_train shape: (531726, 20)\n",
      "y_train shape: (531726,)\n",
      "X_test shape: (227883, 20)\n",
      "y_test shape: (227883, 20)\n"
     ]
    }
   ],
   "source": [
    "X_train, X_test, y_train, y_test = train_test_split(X, y, test_size=0.3)\n",
    "print(\"X_train shape:\",X_train.shape)\n",
    "print(\"y_train shape:\",y_train.shape)\n",
    "print(\"X_test shape:\",X_test.shape)\n",
    "print(\"y_test shape:\",X_test.shape)"
   ]
  },
  {
   "cell_type": "code",
   "execution_count": 33,
   "id": "ed2233e9-f4b2-4fef-8d35-f98bcf86e0ad",
   "metadata": {},
   "outputs": [],
   "source": [
    "#Preprocessing Numerical Data\n",
    "num_transformer = Pipeline(steps=[\n",
    "                                  ('scaler',StandardScaler())\n",
    "                                  ])\n",
    "\n",
    "#Preprocessing Categorical Data\n",
    "cat_transformer = Pipeline(steps=[\n",
    "                                  ('onehot',OneHotEncoder(handle_unknown='ignore'))\n",
    "                                  ])\t\t\n",
    "\t\t\n",
    "\n",
    "\n",
    "#Bundle Preprocessing steps\n",
    "preprocessor = ColumnTransformer(transformers=[\n",
    "                                               ('num',num_transformer,num_cols),\n",
    "                                               ('cat',cat_transformer,cat_cols)\n",
    "])\n"
   ]
  },
  {
   "cell_type": "code",
   "execution_count": 34,
   "id": "92259b74-9546-446a-8db4-57da59853b8a",
   "metadata": {},
   "outputs": [],
   "source": [
    "RFregressor = RandomForestRegressor(bootstrap=True, ccp_alpha=0.0,\n",
    "                       max_depth=300, max_features='auto',\n",
    "                       max_leaf_nodes=None, max_samples=None,\n",
    "                       min_impurity_decrease=0.0, min_impurity_split=None,\n",
    "                       min_samples_leaf=5, min_samples_split=10,\n",
    "                       min_weight_fraction_leaf=0.0, n_estimators=500,\n",
    "                       n_jobs=-1, oob_score=False, random_state=42, verbose=0,\n",
    "                       warm_start=False)\n",
    "\n",
    "pipeline_RFregressor = Pipeline(steps=[('preprocessor', preprocessor),\n",
    "                           ('RFregressor', RFregressor)])"
   ]
  },
  {
   "cell_type": "code",
   "execution_count": 35,
   "id": "9a59d3d9-0bc9-432e-9557-85a841c6c038",
   "metadata": {},
   "outputs": [
    {
     "data": {
      "text/plain": [
       "Pipeline(steps=[('preprocessor',\n",
       "                 ColumnTransformer(transformers=[('num',\n",
       "                                                  Pipeline(steps=[('scaler',\n",
       "                                                                   StandardScaler())]),\n",
       "                                                  ['engines',\n",
       "                                                   'passenger_capacity', 'crew',\n",
       "                                                   'd_check_complete',\n",
       "                                                   'moon_clearance_complete',\n",
       "                                                   'review_scores_rating',\n",
       "                                                   'review_scores_comfort',\n",
       "                                                   'review_scores_amenities',\n",
       "                                                   'review_scores_trip',\n",
       "                                                   'review_scores_crew',\n",
       "                                                   'review_scores_location',\n",
       "                                                   'review_s...\n",
       "                                                   'number_of_reviews',\n",
       "                                                   'reviews_per_month',\n",
       "                                                   'company_rating',\n",
       "                                                   'total_fleet_count',\n",
       "                                                   'iata_approved']),\n",
       "                                                 ('cat',\n",
       "                                                  Pipeline(steps=[('onehot',\n",
       "                                                                   OneHotEncoder(handle_unknown='ignore'))]),\n",
       "                                                  ['engine_type',\n",
       "                                                   'engine_vendor',\n",
       "                                                   'cancellation_policy'])])),\n",
       "                ('RFregressor',\n",
       "                 RandomForestRegressor(max_depth=300, min_samples_leaf=5,\n",
       "                                       min_samples_split=10, n_estimators=500,\n",
       "                                       n_jobs=-1, random_state=42))])"
      ]
     },
     "execution_count": 35,
     "metadata": {},
     "output_type": "execute_result"
    }
   ],
   "source": [
    "pipeline_RFregressor.fit(X_train, y_train)"
   ]
  },
  {
   "cell_type": "code",
   "execution_count": 36,
   "id": "457d6698-35c3-42fd-bc80-d78a536348d6",
   "metadata": {},
   "outputs": [],
   "source": [
    "y_pred = pipeline_RFregressor.predict(X_test)\n",
    "score = r2_score(y_test, y_pred)"
   ]
  },
  {
   "cell_type": "code",
   "execution_count": 37,
   "id": "d8a79ba5-9ac5-4f28-8fec-a10eeada4c1e",
   "metadata": {},
   "outputs": [
    {
     "name": "stdout",
     "output_type": "stream",
     "text": [
      "RFregressorModel with more features have a coefficient R^2 of %.3f on test data. 0.9891414953454817\n"
     ]
    }
   ],
   "source": [
    "print(\"RFregressorModel with more features have a coefficient R^2 of %.3f on test data.\", score)"
   ]
  },
  {
   "cell_type": "code",
   "execution_count": 38,
   "id": "36aec030-3bc0-4bbf-b76f-f66aa44f83f5",
   "metadata": {},
   "outputs": [],
   "source": [
    "importance = RFregressor.feature_importances_"
   ]
  },
  {
   "cell_type": "code",
   "execution_count": 39,
   "id": "0b5cfffd-a2b0-4f22-971a-3b12f732d3ac",
   "metadata": {},
   "outputs": [
    {
     "name": "stdout",
     "output_type": "stream",
     "text": [
      "Feature: 0, Score: 0.39825\n",
      "Feature: 1, Score: 0.06526\n",
      "Feature: 2, Score: 0.02813\n",
      "Feature: 3, Score: 0.00843\n",
      "Feature: 4, Score: 0.00000\n",
      "Feature: 5, Score: 0.04550\n",
      "Feature: 6, Score: 0.01702\n",
      "Feature: 7, Score: 0.01274\n",
      "Feature: 8, Score: 0.01586\n",
      "Feature: 9, Score: 0.01017\n",
      "Feature: 10, Score: 0.02629\n",
      "Feature: 11, Score: 0.02352\n",
      "Feature: 12, Score: 0.03284\n",
      "Feature: 13, Score: 0.11107\n",
      "Feature: 14, Score: 0.00866\n",
      "Feature: 15, Score: 0.11413\n",
      "Feature: 16, Score: 0.00526\n",
      "Feature: 17, Score: 0.00004\n",
      "Feature: 18, Score: 0.07243\n",
      "Feature: 19, Score: 0.00016\n",
      "Feature: 20, Score: 0.00000\n",
      "Feature: 21, Score: 0.00000\n",
      "Feature: 22, Score: 0.00000\n",
      "Feature: 23, Score: 0.00000\n",
      "Feature: 24, Score: 0.00000\n",
      "Feature: 25, Score: 0.00101\n",
      "Feature: 26, Score: 0.00175\n",
      "Feature: 27, Score: 0.00146\n"
     ]
    }
   ],
   "source": [
    "# summarize feature importance\n",
    "for i,v in enumerate(importance):\n",
    "\tprint('Feature: %0d, Score: %.5f' % (i,v))"
   ]
  },
  {
   "cell_type": "code",
   "execution_count": 7,
   "id": "f920c6af-21f5-4322-ad38-2d4a5d38ba00",
   "metadata": {},
   "outputs": [
    {
     "name": "stdout",
     "output_type": "stream",
     "text": [
      "Hello! ------------ Inside src/process/__init__.py\n",
      "2021-10-14 12:45:55,548 - kedro.framework.session.store - INFO - `read()` not implemented for `BaseSessionStore`. Assuming empty store.\n",
      "2021-10-14 12:45:55,608 - root - INFO - ** Kedro project spaceflightsTutorial\n",
      "2021-10-14 12:45:55,609 - root - INFO - Defined global variable `context`, `session` and `catalog`\n",
      "2021-10-14 12:45:55,617 - root - INFO - Registered line magic `run_viz`\n"
     ]
    }
   ],
   "source": [
    "%reload_kedro"
   ]
  },
  {
   "cell_type": "code",
   "execution_count": 8,
   "id": "919ae839-e02c-4812-ab24-b73de871de0d",
   "metadata": {},
   "outputs": [
    {
     "name": "stdout",
     "output_type": "stream",
     "text": [
      "2021-10-14 12:46:00,372 - root - INFO - ** Kedro project spaceflightsRepo\n",
      "Hello! ------------ Inside src/process/pipelines/data_processing/__init__.py\n",
      "2021-10-14 12:46:00,390 - kedro.io.data_catalog - INFO - Loading data from `model_input_table` (CSVDataSet)...\n",
      "2021-10-14 12:46:02,107 - kedro.io.data_catalog - INFO - Loading data from `parameters` (MemoryDataSet)...\n",
      "2021-10-14 12:46:02,108 - kedro.pipeline.node - INFO - Running node: split_data_node: split_data([model_input_table,parameters]) -> [X_test,X_train,y_test,y_train]\n",
      "Training Shape ---------: (607687, 8) (607687,)\n",
      "Testing Shape ---------: (151922, 8) (151922,)\n",
      "X Test Type ------------: <class 'pandas.core.frame.DataFrame'>\n",
      "2021-10-14 12:46:02,238 - kedro.io.data_catalog - INFO - Saving data to `X_train` (MemoryDataSet)...\n",
      "2021-10-14 12:46:02,244 - kedro.io.data_catalog - INFO - Saving data to `X_test` (MemoryDataSet)...\n",
      "2021-10-14 12:46:02,246 - kedro.io.data_catalog - INFO - Saving data to `y_train` (MemoryDataSet)...\n",
      "2021-10-14 12:46:02,249 - kedro.io.data_catalog - INFO - Saving data to `y_test` (MemoryDataSet)...\n",
      "2021-10-14 12:46:02,278 - kedro.runner.sequential_runner - INFO - Completed 1 out of 1 tasks\n",
      "2021-10-14 12:46:02,279 - kedro.runner.sequential_runner - INFO - Pipeline execution completed successfully.\n",
      "2021-10-14 12:46:02,280 - kedro.io.data_catalog - INFO - Loading data from `X_train` (MemoryDataSet)...\n",
      "2021-10-14 12:46:02,285 - kedro.io.data_catalog - INFO - Loading data from `y_train` (MemoryDataSet)...\n",
      "2021-10-14 12:46:02,288 - kedro.io.data_catalog - INFO - Loading data from `y_test` (MemoryDataSet)...\n",
      "2021-10-14 12:46:02,289 - kedro.io.data_catalog - INFO - Loading data from `X_test` (MemoryDataSet)...\n"
     ]
    },
    {
     "data": {
      "text/plain": [
       "{'X_train':         engines  passenger_capacity  crew  d_check_complete  \\\n",
       " 115794      2.0                   4   3.0             False   \n",
       " 238624      4.0                   8   5.0              True   \n",
       " 389153      1.0                   2   1.0              True   \n",
       " 628283      2.0                   6   2.0              True   \n",
       " 452204      1.0                   2   1.0              True   \n",
       " ...         ...                 ...   ...               ...   \n",
       " 572344      0.0                   2   1.0             False   \n",
       " 452227      1.0                   2   1.0              True   \n",
       " 601337      0.0                   4   2.0              True   \n",
       " 722584      1.0                   4   1.0              True   \n",
       " 71530       1.0                   2   1.0             False   \n",
       " \n",
       "         moon_clearance_complete  iata_approved  company_rating  \\\n",
       " 115794                    False           True            1.00   \n",
       " 238624                    False          False            1.00   \n",
       " 389153                    False          False            1.00   \n",
       " 628283                    False          False            1.00   \n",
       " 452204                    False          False            1.00   \n",
       " ...                         ...            ...             ...   \n",
       " 572344                    False           True            0.93   \n",
       " 452227                    False          False            1.00   \n",
       " 601337                    False          False            1.00   \n",
       " 722584                    False          False            0.98   \n",
       " 71530                     False           True            1.00   \n",
       " \n",
       "         review_scores_rating  \n",
       " 115794                  96.0  \n",
       " 238624                 100.0  \n",
       " 389153                  65.0  \n",
       " 628283                 100.0  \n",
       " 452204                  60.0  \n",
       " ...                      ...  \n",
       " 572344                  83.0  \n",
       " 452227                  60.0  \n",
       " 601337                  96.0  \n",
       " 722584                  80.0  \n",
       " 71530                   84.0  \n",
       " \n",
       " [607687 rows x 8 columns],\n",
       " 'y_train': 115794    2950.0\n",
       " 238624    5290.0\n",
       " 389153    3418.0\n",
       " 628283    2885.0\n",
       " 452204    2846.0\n",
       "            ...  \n",
       " 572344    1962.0\n",
       " 452227    2846.0\n",
       " 601337    2183.0\n",
       " 722584    3171.0\n",
       " 71530     1260.0\n",
       " Name: price, Length: 607687, dtype: float64,\n",
       " 'y_test': 294584    11322.0\n",
       " 576608     2690.0\n",
       " 392489     3561.0\n",
       " 312202     3899.0\n",
       " 590533     3730.0\n",
       "            ...   \n",
       " 15067      2547.0\n",
       " 665998     1910.0\n",
       " 513727     3457.0\n",
       " 194132     5095.0\n",
       " 174934     3457.0\n",
       " Name: price, Length: 151922, dtype: float64,\n",
       " 'X_test':         engines  passenger_capacity  crew  d_check_complete  \\\n",
       " 294584      4.0                  10   6.0              True   \n",
       " 576608      3.0                   6   5.0             False   \n",
       " 392489      2.0                   5   3.0              True   \n",
       " 312202      4.0                   8   4.0              True   \n",
       " 590533      2.0                   4   2.0             False   \n",
       " ...         ...                 ...   ...               ...   \n",
       " 15067       2.0                   3   2.0              True   \n",
       " 665998      0.0                   4   4.0              True   \n",
       " 513727      2.0                   6   2.0              True   \n",
       " 194132      4.0                   8   4.0              True   \n",
       " 174934      3.0                   6   4.0              True   \n",
       " \n",
       "         moon_clearance_complete  iata_approved  company_rating  \\\n",
       " 294584                    False          False            1.00   \n",
       " 576608                    False           True            0.93   \n",
       " 392489                    False          False            1.00   \n",
       " 312202                    False          False            1.00   \n",
       " 590533                    False          False            1.00   \n",
       " ...                         ...            ...             ...   \n",
       " 15067                     False          False            1.00   \n",
       " 665998                    False          False            0.94   \n",
       " 513727                    False          False            1.00   \n",
       " 194132                    False          False            1.00   \n",
       " 174934                    False          False            1.00   \n",
       " \n",
       "         review_scores_rating  \n",
       " 294584                 100.0  \n",
       " 576608                 100.0  \n",
       " 392489                  93.0  \n",
       " 312202                 100.0  \n",
       " 590533                 100.0  \n",
       " ...                      ...  \n",
       " 15067                   92.0  \n",
       " 665998                  87.0  \n",
       " 513727                  80.0  \n",
       " 194132                  90.0  \n",
       " 174934                  96.0  \n",
       " \n",
       " [151922 rows x 8 columns]}"
      ]
     },
     "execution_count": 8,
     "metadata": {},
     "output_type": "execute_result"
    }
   ],
   "source": [
    "session.run(node_names=['split_data_node'])"
   ]
  },
  {
   "cell_type": "code",
   "execution_count": 12,
   "id": "93003e0a-ec63-44f0-a465-384b2b042cad",
   "metadata": {},
   "outputs": [],
   "source": [
    "data = [4.0,10,6.0,True,False,False,1.0,100.0]\n"
   ]
  },
  {
   "cell_type": "code",
   "execution_count": 19,
   "id": "02e10be3-e6e3-4e83-b75c-07a9ed4f33b6",
   "metadata": {},
   "outputs": [],
   "source": [
    "import pickle\n",
    "import numpy as np\n",
    "RFreg_model = pickle.load(open(\"/Users/adityan/Work/kedro-spaceflights-tutorial/spaceflightsRepo/data/06_models/RF_regressor.pickle/2021-10-13T15.30.01.479Z/RF_regressor.pickle\", \"rb\"))"
   ]
  },
  {
   "cell_type": "code",
   "execution_count": 24,
   "id": "9959ec46-25e3-44c4-9a75-c8ac7f77ea86",
   "metadata": {},
   "outputs": [],
   "source": [
    "data_pred = RFreg_model.predict(np.array(data).reshape(1,-1))"
   ]
  },
  {
   "cell_type": "code",
   "execution_count": 25,
   "id": "8895ee54-73fa-4c47-9df6-7870dd567a41",
   "metadata": {},
   "outputs": [
    {
     "data": {
      "text/plain": [
       "numpy.ndarray"
      ]
     },
     "execution_count": 25,
     "metadata": {},
     "output_type": "execute_result"
    }
   ],
   "source": [
    "type(data_pred)"
   ]
  },
  {
   "cell_type": "code",
   "execution_count": 33,
   "id": "1bf4d66c-e93e-4b63-be7a-3d6e1edb8568",
   "metadata": {},
   "outputs": [
    {
     "name": "stdout",
     "output_type": "stream",
     "text": [
      "The price of the Spaceflight is : 11322.0\n"
     ]
    }
   ],
   "source": [
    "print('The price of the Spaceflight is : {}'.format(data_pred[0]))"
   ]
  },
  {
   "cell_type": "code",
   "execution_count": null,
   "id": "7233118f-92e5-45a3-889f-2cee210f22fe",
   "metadata": {},
   "outputs": [],
   "source": []
  }
 ],
 "metadata": {
  "kernelspec": {
   "display_name": "spaceflightsTutorial",
   "language": "python",
   "name": "python3"
  },
  "language_info": {
   "codemirror_mode": {
    "name": "ipython",
    "version": 3
   },
   "file_extension": ".py",
   "mimetype": "text/x-python",
   "name": "python",
   "nbconvert_exporter": "python",
   "pygments_lexer": "ipython3",
   "version": "3.8.9"
  }
 },
 "nbformat": 4,
 "nbformat_minor": 5
}
